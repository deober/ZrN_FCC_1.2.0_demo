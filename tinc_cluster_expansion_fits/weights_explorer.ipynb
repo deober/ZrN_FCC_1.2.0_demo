{
 "cells": [
  {
   "cell_type": "code",
   "execution_count": 1,
   "metadata": {},
   "outputs": [
    {
     "name": "stdout",
     "output_type": "stream",
     "text": [
      "Populating the interactive namespace from numpy and matplotlib\n"
     ]
    }
   ],
   "source": [
    "get_ipython().run_line_magic('pylab', 'inline')"
   ]
  },
  {
   "cell_type": "code",
   "execution_count": 2,
   "metadata": {},
   "outputs": [],
   "source": [
    "#from tinc import *\n",
    "import tinc\n",
    "import os\n",
    "import numpy as np"
   ]
  },
  {
   "cell_type": "code",
   "execution_count": 3,
   "metadata": {},
   "outputs": [
    {
     "data": {
      "text/html": [
       "<style>.container { width:100% !important; }</style>"
      ],
      "text/plain": [
       "<IPython.core.display.HTML object>"
      ]
     },
     "metadata": {},
     "output_type": "display_data"
    }
   ],
   "source": [
    "#Enlarge the jupyter notebook so that plots are easier to see \n",
    "from IPython.core.display import display, HTML\n",
    "display(HTML(\"<style>.container { width:100% !important; }</style>\"))"
   ]
  },
  {
   "cell_type": "code",
   "execution_count": 4,
   "metadata": {},
   "outputs": [],
   "source": [
    "A = tinc.Parameter(\"A\", \"weighting\")\n",
    "A.values = np.linspace(.1,2,3)\n",
    "\n",
    "B = tinc.Parameter(\"B\", \"weighting\")\n",
    "B.values = np.linspace(0,2,3)\n",
    "\n",
    "kT = tinc.Parameter(\"kT\", \"weighting\")\n",
    "kT.values = np.linspace(.01,.1,3)\n",
    "\n",
    "\n",
    "graph_buffer = tinc.DiskBufferImage(\"graph\", \"out.png\", \"graph_output\")"
   ]
  },
  {
   "cell_type": "code",
   "execution_count": 5,
   "metadata": {},
   "outputs": [
    {
     "name": "stdout",
     "output_type": "stream",
     "text": [
      "Validating json with /home/derick/anaconda3/envs/casm_1.2.0/lib/python3.9/site-packages/tinc/tinc_cache_schema.json\n"
     ]
    }
   ],
   "source": [
    "ps = tinc.ParameterSpace(\"ps\")\n",
    "ps.register_parameters([A, B, kT])\n",
    "ps.enable_cache()"
   ]
  },
  {
   "cell_type": "code",
   "execution_count": 6,
   "metadata": {},
   "outputs": [],
   "source": [
    "def make_graph(A, B, kT):\n",
    "    \n",
    "    #hard-coding this now, change later\n",
    "    ce_fits_dir = '/media/derick/DeoResearch/experiments/ZrN_FCC_1.2.0_demo/tinc_cluster_expansion_fits'\n",
    "    prefix = 'ZrN_FCC_1.2.0_demo_'\n",
    "    \n",
    "    fit_dir = 'A_%s_B_%s_kt_%s' % ((A), (B), (kT))\n",
    "\n",
    "    \n",
    "    image_name = prefix + fit_dir + '.png'\n",
    "    #figure(figsize=[18.5,10])\n",
    "    #close() # Avoid showing as an additional graph in jupyter\n",
    "    \n",
    "    #Path to pre-made images, using scripts from vasp_scripts\n",
    "    image_path = os.path.join(ce_fits_dir, fit_dir, image_name)\n",
    "    file = open(image_path, 'rb')\n",
    "    return file.read()\n",
    "\n",
    "\n",
    "def value_changed(value):\n",
    "    imagedata = ps.run_process(make_graph)\n",
    "    graph_buffer.data = imagedata\n",
    "\n",
    "A.register_callback(value_changed)\n",
    "B.register_callback(value_changed)\n",
    "kT.register_callback(value_changed)\n",
    "#kT.register_callback(cb)"
   ]
  },
  {
   "cell_type": "code",
   "execution_count": 7,
   "metadata": {},
   "outputs": [
    {
     "name": "stdout",
     "output_type": "stream",
     "text": [
      "[0.1  1.05 2.  ] [0. 1. 2.] [0.01  0.055 0.1  ]\n"
     ]
    }
   ],
   "source": [
    "print(A.values,B.values,kT.values)"
   ]
  },
  {
   "cell_type": "markdown",
   "metadata": {},
   "source": [
    "#currently not using this display approach\n",
    "from ipywidgets import GridspecLayout\n",
    "grid = GridspecLayout(3, 2, height='300px')\n",
    "grid[:, 1] = graph_buffer.interactive_widget()\n",
    "grid[0, 0] = A.interactive_widget()\n",
    "grid[1, 0] = B.interactive_widget()\n",
    "grid[2, 0] = kT.interactive_widget()\n",
    "grid\n"
   ]
  },
  {
   "cell_type": "code",
   "execution_count": 9,
   "metadata": {},
   "outputs": [
    {
     "data": {
      "application/vnd.jupyter.widget-view+json": {
       "model_id": "018b6b3694d0499f971e614240e4cec7",
       "version_major": 2,
       "version_minor": 0
      },
      "text/plain": [
       "VBox(children=(HBox(children=(Button(description='<<', style=ButtonStyle()), Label(value='0.1'), Button(descri…"
      ]
     },
     "metadata": {},
     "output_type": "display_data"
    }
   ],
   "source": [
    "from ipywidgets import Button, HBox, VBox\n",
    "\n",
    "box = VBox([A.interactive_control(), \n",
    "            B.interactive_control(), \n",
    "            kT.interactive_control(), \n",
    "            graph_buffer.interactive_widget()])\n",
    "graph_buffer._interactive_widget.width = \"90%\"\n",
    "box"
   ]
  }
 ],
 "metadata": {
  "interpreter": {
   "hash": "e7f8c89180b1b01809ebef4d09a4b295f9e97d7edb55f9d07ba3341339b679cd"
  },
  "kernelspec": {
   "display_name": "Python 3.9.7 64-bit ('casm_1.2.0': conda)",
   "name": "python3"
  },
  "language_info": {
   "codemirror_mode": {
    "name": "ipython",
    "version": 3
   },
   "file_extension": ".py",
   "mimetype": "text/x-python",
   "name": "python",
   "nbconvert_exporter": "python",
   "pygments_lexer": "ipython3",
   "version": "3.9.7"
  }
 },
 "nbformat": 4,
 "nbformat_minor": 5
}
