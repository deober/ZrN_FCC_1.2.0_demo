{
 "cells": [
  {
   "cell_type": "code",
   "execution_count": 2,
   "id": "235741e3",
   "metadata": {},
   "outputs": [
    {
     "name": "stdout",
     "output_type": "stream",
     "text": [
      "Populating the interactive namespace from numpy and matplotlib\n"
     ]
    },
    {
     "name": "stderr",
     "output_type": "stream",
     "text": [
      "/home/jonnyli/anaconda3/lib/python3.8/site-packages/IPython/core/magics/pylab.py:159: UserWarning: pylab import has clobbered these variables: ['Button']\n",
      "`%matplotlib` prevents importing * from pylab and numpy\n",
      "  warn(\"pylab import has clobbered these variables: %s\"  % clobbered +\n"
     ]
    }
   ],
   "source": [
    "get_ipython().run_line_magic('pylab', 'inline')"
   ]
  },
  {
   "cell_type": "code",
   "execution_count": 3,
   "id": "18755be9",
   "metadata": {},
   "outputs": [],
   "source": [
    "#from tinc import *\n",
    "import tinc\n",
    "import os\n",
    "import djlib.clex as cl\n",
    "import matplotlib.pyplot as plt\n",
    "import numpy as np\n",
    "import djlib as dj\n",
    "import json"
   ]
  },
  {
   "cell_type": "code",
   "execution_count": 4,
   "id": "21a1b0e7",
   "metadata": {},
   "outputs": [
    {
     "data": {
      "text/html": [
       "<style>.container { width:100% !important; }</style>"
      ],
      "text/plain": [
       "<IPython.core.display.HTML object>"
      ]
     },
     "metadata": {},
     "output_type": "display_data"
    }
   ],
   "source": [
    "#Enlarge the jupyter notebook so that plots are easier to see \n",
    "from IPython.core.display import display, HTML\n",
    "display(HTML(\"<style>.container { width:100% !important; }</style>\"))"
   ]
  },
  {
   "cell_type": "code",
   "execution_count": 5,
   "id": "09fc297f",
   "metadata": {},
   "outputs": [],
   "source": [
    "A = tinc.Parameter(\"A\", \"weighting\")\n",
    "A.values = np.linspace(.1,2,3)\n",
    "\n",
    "B = tinc.Parameter(\"B\", \"weighting\")\n",
    "B.values = np.linspace(0,2,3)\n",
    "\n",
    "kT = tinc.Parameter(\"kT\", \"weighting\")\n",
    "kT.values = np.linspace(.01,.1,3)\n",
    "\n",
    "mode = tinc.ParameterString(\"mode\", \"fit_mode\")\n",
    "mode.values = [\"lasso\", \"genetic_algorithm\"]\n",
    "\n",
    "\n",
    "graph_buffer = tinc.DiskBufferImage(\"graph\", \"out.png\", \"graph_output\")"
   ]
  },
  {
   "cell_type": "code",
   "execution_count": 6,
   "id": "1e59b98c",
   "metadata": {},
   "outputs": [
    {
     "name": "stdout",
     "output_type": "stream",
     "text": [
      "Validating json with /home/jonnyli/anaconda3/lib/python3.8/site-packages/tinc/tinc_cache_schema.json\n"
     ]
    }
   ],
   "source": [
    "ps = tinc.ParameterSpace(\"ps\")\n",
    "ps.register_parameters([A, B, kT, mode])\n",
    "ps.enable_cache()"
   ]
  },
  {
   "cell_type": "markdown",
   "id": "8ccf2c30",
   "metadata": {},
   "source": [
    "Processes DFT hull & energies data"
   ]
  },
  {
   "cell_type": "code",
   "execution_count": 7,
   "id": "7d8bc13d",
   "metadata": {},
   "outputs": [],
   "source": [
    "fcc_data = cl.read_corr_comp_formation(\"ZrN_FCC_query_data.json\")\n",
    "hcp_data = cl.read_corr_comp_formation(\"ZrN_HCP_query_data.json\")\n",
    "all_comps = np.concatenate((hcp_data[\"comp\"], fcc_data[\"comp\"]), axis=0)\n",
    "all_energies = np.concatenate(\n",
    "    (hcp_data[\"formation_energy\"] / 2, fcc_data[\"formation_energy\"]), axis=0\n",
    ")\n",
    "points = np.concatenate((all_comps, np.reshape(all_energies, (-1, 1))), axis=1)\n",
    "\n",
    "hull = cl.ConvexHull(points)\n",
    "trash, lower_hull_indices = cl.lower_hull(hull)\n",
    "hull_vertices = points[lower_hull_indices]\n",
    "hull_vertices = dj.column_sort(hull_vertices, 0)"
   ]
  },
  {
   "cell_type": "code",
   "execution_count": 14,
   "id": "bdafc472",
   "metadata": {},
   "outputs": [],
   "source": [
    "import plot_convex_hull_fcc as plotter\n",
    "def make_graph(A, B, kT, mode):\n",
    "    ce_fits_dir = os.path.join(os.getcwd())\n",
    "    project = \"ZrN_FCC_1.2.0_demo_\"\n",
    "    json_file = \"clex_comp_fe.json\"\n",
    "    if mode == \"lasso\":\n",
    "        fit_dir = \"Lasso_A_%s_B_%s_kt_%s\" % (A, B, kT)\n",
    "        settings = \"lasso_settings.json\"\n",
    "    elif mode == \"genetic_algorithm\":\n",
    "        fit_dir = \"A_%s_B_%s_kt_%s\" % (A, B, kT)\n",
    "        settings = \"genetic_alg_settings.json\"\n",
    "    plotter.plot_convex_hull_fcc(os.path.join(ce_fits_dir,fit_dir))\n",
    "    #print(os.path.join(ce_fits_dir,fit_dir))\n",
    "    #os.chdir(os.path.join(ce_fits_dir, fit_dir))\n",
    "    #print(os.getcwd()) #debug\n",
    "    #os.system(\"casm-learn -s %s --select 0\" % settings)\n",
    "    #os.system(\"casm query -k clex,comp -j -o $s\" % json_file)\n",
    "    '''with open(json_file) as f:\n",
    "        clex_data = json.load(f)\n",
    "    ce_fe = np.array([a['clex'] for a in clex_data])\n",
    "    ce_comp = np.array([a['comp'][0] for a in clex_data])\n",
    "    '''\n",
    "\n",
    "    '''\n",
    "    #Plot DFT hull\n",
    "    plt.plot(hull_vertices[:, 0], hull_vertices[:, 1], color=\"k\", label=\"DFT Convex Hull\",zorder=1)\n",
    "    '''\n",
    "    # Plot DFT energies\n",
    "    '''plt.scatter(\n",
    "        np.array(hcp_data[\"comp\"]), np.array(hcp_data[\"formation_energy\"]) / 2, label=\"HCP\",zorder=5, color=\"b\"\n",
    "    )'''\n",
    "    '''\n",
    "    plt.scatter(\n",
    "        np.array(fcc_data[\"comp\"]), np.array(fcc_data[\"formation_energy\"]), label=\"FCC\",zorder=6, color=\"orange\"\n",
    "    )\n",
    "\n",
    "    # Plot CE energies\n",
    "    plt.scatter(ce_comp, ce_fe, label=\"Cluster Expansion Prediction\",zorder=7, color=\"orange\", marker=\"x\")\n",
    "\n",
    "    # Plot formatting\n",
    "    plt.hlines(0, 0, 1, linestyles=\"dashed\",color=\"k\",zorder=0)\n",
    "    plt.xticks(fontsize=15)\n",
    "    plt.yticks(fontsize=15)\n",
    "\n",
    "    plt.legend(fontsize=15)\n",
    "    plt.xlabel(\"Composition (x)\", fontsize=20)\n",
    "    plt.ylabel(\"Formation Energy per Zr (eV)\", fontsize=20)\n",
    "\n",
    "    fig = plt.gcf()\n",
    "    fig.set_size_inches(8, 6)\n",
    "    plt.subplots_adjust(left=0.15,bottom=0.11)\n",
    "\n",
    "    plt.show()\n",
    "    image_name = project + fit_dir + '.png'\n",
    "    #figure(figsize=[18.5,10])\n",
    "    #close() # Avoid showing as an additional graph in jupyter\n",
    "    \n",
    "    os.chdir(ce_fits_dir)\n",
    "    '''\n",
    "    #Path to pre-made images, using scripts from vasp_scripts\n",
    "    image_path = os.path.join(ce_fits_dir, fit_dir, 'convex_hull.png')\n",
    "    #print(image_path) #debug\n",
    "    file = open(image_path, 'rb')\n",
    "    return file.read()\n",
    "\n",
    "\n",
    "def value_changed(value):\n",
    "    imagedata = ps.run_process(make_graph)\n",
    "    graph_buffer.data = imagedata\n",
    "\n",
    "A.register_callback(value_changed)\n",
    "B.register_callback(value_changed)\n",
    "kT.register_callback(value_changed)\n",
    "mode.register_callback(value_changed)"
   ]
  },
  {
   "cell_type": "code",
   "execution_count": 15,
   "id": "d4d3962b",
   "metadata": {},
   "outputs": [
    {
     "name": "stdout",
     "output_type": "stream",
     "text": [
      "[0.1  1.05 2.  ] [0. 1. 2.] [0.01  0.055 0.1  ] ['lasso', 'genetic_algorithm']\n"
     ]
    }
   ],
   "source": [
    "print(A.values,B.values,kT.values,mode.values)"
   ]
  },
  {
   "cell_type": "markdown",
   "id": "c309baf0",
   "metadata": {},
   "source": [
    "#currently not using this display approach\n",
    "from ipywidgets import GridspecLayout\n",
    "grid = GridspecLayout(3, 2, height='300px')\n",
    "grid[:, 1] = graph_buffer.interactive_widget()\n",
    "grid[0, 0] = A.interactive_widget()\n",
    "grid[1, 0] = B.interactive_widget()\n",
    "grid[2, 0] = kT.interactive_widget()\n",
    "grid\n"
   ]
  },
  {
   "cell_type": "code",
   "execution_count": 16,
   "id": "3c74409f",
   "metadata": {},
   "outputs": [
    {
     "data": {
      "application/vnd.jupyter.widget-view+json": {
       "model_id": "675b1d323b514363a551c33cbcbebba7",
       "version_major": 2,
       "version_minor": 0
      },
      "text/plain": [
       "VBox(children=(interactive(children=(FloatSlider(value=0.1, description='A', max=2.0, min=0.1, step=0.95), Out…"
      ]
     },
     "metadata": {},
     "output_type": "display_data"
    }
   ],
   "source": [
    "from ipywidgets import Button, HBox, VBox\n",
    "\n",
    "box = VBox([A.interactive_widget(), \n",
    "            B.interactive_widget(), \n",
    "            kT.interactive_widget(), mode.interactive_widget(),\n",
    "            graph_buffer.interactive_widget()])\n",
    "graph_buffer._interactive_widget.width = \"60%\"\n",
    "box"
   ]
  },
  {
   "cell_type": "code",
   "execution_count": 11,
   "id": "5a0a6016",
   "metadata": {},
   "outputs": [
    {
     "name": "stdout",
     "output_type": "stream",
     "text": [
      "Unsupported type for arg: mode - <class 'str'>\n"
     ]
    }
   ],
   "source": [
    "mode.value='genetic_algorithm'"
   ]
  },
  {
   "cell_type": "code",
   "execution_count": null,
   "id": "1f33c0b9-7748-458b-ae6c-87dcd3e79859",
   "metadata": {},
   "outputs": [],
   "source": []
  }
 ],
 "metadata": {
  "interpreter": {
   "hash": "e7f8c89180b1b01809ebef4d09a4b295f9e97d7edb55f9d07ba3341339b679cd"
  },
  "kernelspec": {
   "display_name": "Python 3 (ipykernel)",
   "language": "python",
   "name": "python3"
  },
  "language_info": {
   "codemirror_mode": {
    "name": "ipython",
    "version": 3
   },
   "file_extension": ".py",
   "mimetype": "text/x-python",
   "name": "python",
   "nbconvert_exporter": "python",
   "pygments_lexer": "ipython3",
   "version": "3.8.5"
  }
 },
 "nbformat": 4,
 "nbformat_minor": 5
}
