{
 "cells": [
  {
   "cell_type": "code",
   "execution_count": 1,
   "metadata": {},
   "outputs": [
    {
     "name": "stdout",
     "output_type": "stream",
     "text": [
      "Populating the interactive namespace from numpy and matplotlib\n"
     ]
    }
   ],
   "source": [
    "get_ipython().run_line_magic('pylab', 'inline')"
   ]
  },
  {
   "cell_type": "code",
   "execution_count": 2,
   "metadata": {},
   "outputs": [],
   "source": [
    "#from tinc import *\n",
    "import tinc\n",
    "import os\n",
    "import numpy as np\n",
    "import djlib.mc as mc\n"
   ]
  },
  {
   "cell_type": "code",
   "execution_count": 3,
   "metadata": {},
   "outputs": [],
   "source": [
    "#Enlarge the jupyter notebook so that plots are easier to see \n",
    "from IPython.core.display import display, HTML\n",
    "#display(HTML(\"<style>.container { width:80% !important; }</style>\"))"
   ]
  },
  {
   "cell_type": "code",
   "execution_count": 4,
   "metadata": {},
   "outputs": [],
   "source": [
    "\n",
    "\n",
    "mu = tinc.Parameter(\"mu\", \"chemical_potential\")\n",
    "mu.values = np.linspace(-1,1,81)\n",
    "\n",
    "graph_buffer = tinc.DiskBufferImage(\"graph\", \"out.png\", \"graph_output\")"
   ]
  },
  {
   "cell_type": "code",
   "execution_count": 5,
   "metadata": {},
   "outputs": [
    {
     "name": "stdout",
     "output_type": "stream",
     "text": [
      "Validating json with /home/derick/anaconda3/envs/py37/lib/python3.7/site-packages/tinc/tinc_cache_schema.json\n"
     ]
    }
   ],
   "source": [
    "ps = tinc.ParameterSpace(\"ps\")\n",
    "ps.register_parameters([mu])\n",
    "ps.enable_cache()"
   ]
  },
  {
   "cell_type": "code",
   "execution_count": 6,
   "metadata": {},
   "outputs": [],
   "source": [
    "def make_graph(mu):\n",
    "    \n",
    "    t_high = 2000\n",
    "    t_low = 20\n",
    "    user=\"jonny\"\n",
    "    #hard-coding this now, change later\n",
    "    if(user==\"jonny\"):\n",
    "        print(\"using Jonny's paths\")\n",
    "        plots_dir = '/home/jonnyli/Desktop/CASM/experiments/ZrN_FCC_1.2.0_demo/mc_coarse_new_scel/plots'\n",
    "        t_const_right_dir = \"/home/jonnyli/Desktop/CASM/experiments/ZrN_FCC_1.2.0_demo/mc_coarse_new_scel/t_const/mu_3.0_0_0.005_T_2000\"\n",
    "        t_const_left_dir = \"/home/jonnyli/Desktop/CASM/experiments/ZrN_FCC_1.2.0_demo/mc_coarse_new_scel/t_const/mu_-3.0_0_0.005_T_2000\"\n",
    "        heating_dir = \"/home/jonnyli/Desktop/CASM/experiments/ZrN_FCC_1.2.0_demo/mc_coarse_new_scel/heating\"\n",
    "        cooling_dir = \"/home/jonnyli/Desktop/CASM/experiments/ZrN_FCC_1.2.0_demo/mc_coarse_new_scel/cooling\"\n",
    "        #lte_dir = (\"/home/jonnyli/Desktop/CASM/experiments/ZrN_FCC_1.2.0_demo/mc_coarse_new_scel/lte\")    \n",
    "    else:\n",
    "        print(\"using Derick's paths\")\n",
    "        plots_dir = '/media/derick/DeoResearch/experiments/ZrN_FCC_1.2.0_demo/mc_coarse_new_scel/plots't_const_right_dir = \"/media/derick/DeoResearch/experiments/ZrN_FCC_1.2.0_demo/mc_coarse_new_scel/t_const/mu_3.0_0_0.005_T_2000\"\n",
    "        t_const_left_dir = \"/media/derick/DeoResearch/experiments/ZrN_FCC_1.2.0_demo/mc_coarse_new_scel/t_const/mu_-3.0_0_0.005_T_2000\"\n",
    "        heating_dir = \"/media/derick/DeoResearch/experiments/ZrN_FCC_1.2.0_demo/mc_coarse_new_scel/heating\"\n",
    "        cooling_dir = \"/media/derick/DeoResearch/experiments/ZrN_FCC_1.2.0_demo/mc_coarse_new_scel/cooling\"\n",
    "        #lte_dir = (\"/media/derick/DeoResearch/experiments/ZrN_FCC_1.2.0_demo/mc_coarse_new_scel/lte\")\n",
    "\n",
    "    heating_run_name = os.path.join(heating_dir, 'mu_%.4f_%.4f_T_%d_%d' % ((mu), (mu), t_low, t_high))\n",
    "    cooling_run_name = os.path.join(cooling_dir, 'mu_%.4f_%.4f_T_%d_%d' % ((mu), (mu), t_high, t_low) )\n",
    "    fig = False\n",
    "\n",
    "    if os.path.isfile(os.path.join(heating_run_name, 'results.json')) and os.path.isfile(os.path.join(cooling_run_name, 'results.json')):    \n",
    "        t_const_left = mc.constant_t_run(t_const_left_dir)\n",
    "        t_const_right = mc.constant_t_run(t_const_right_dir)\n",
    "        #lte_run = mc.lte_run(lte_dir)\n",
    "        heating_run = mc.heating_run_no_lte(heating_run_name)\n",
    "        if mu < 0:\n",
    "            cooling_run = mc.cooling_run(cooling_run_name, t_const_left)\n",
    "        else:\n",
    "            cooling_run = mc.cooling_run(cooling_run_name, t_const_right)\n",
    "        \n",
    "        fig = mc.plot_heating_and_cooling(heating_run, cooling_run)\n",
    "        fig.set_size_inches(20, 10)\n",
    "\n",
    "    if fig:\n",
    "        image_path = os.path.join(plots_dir, 'heating_vs_cooling_mu%.4f.png' % (mu) )\n",
    "        fig.savefig(image_path)\n",
    "        fig.show()\n",
    "    \n",
    "    \n",
    "    #Path to pre-made images, using scripts from vasp_scripts\n",
    "    file = open(image_path, 'rb')\n",
    "    return file.read()\n",
    "\n",
    "\n",
    "def value_changed(value):\n",
    "    imagedata = ps.run_process(make_graph)\n",
    "    graph_buffer.data = imagedata\n",
    "\n",
    "mu.register_callback(value_changed)"
   ]
  },
  {
   "cell_type": "code",
   "execution_count": 7,
   "metadata": {},
   "outputs": [],
   "source": [
    "#print(A.values,B.values,kT.values)"
   ]
  },
  {
   "cell_type": "markdown",
   "metadata": {},
   "source": [
    "#currently not using this display approach\n",
    "from ipywidgets import GridspecLayout\n",
    "grid = GridspecLayout(3, 2, height='300px')\n",
    "grid[:, 1] = graph_buffer.interactive_widget()\n",
    "grid[0, 0] = A.interactive_widget()\n",
    "grid[1, 0] = B.interactive_widget()\n",
    "grid[2, 0] = kT.interactive_widget()\n",
    "grid\n"
   ]
  },
  {
   "cell_type": "code",
   "execution_count": 8,
   "metadata": {},
   "outputs": [
    {
     "data": {
      "application/vnd.jupyter.widget-view+json": {
       "model_id": "63c21e738d634a6ea751a75cfb023bd1",
       "version_major": 2,
       "version_minor": 0
      },
      "text/plain": [
       "VBox(children=(HBox(children=(Button(description='<<', style=ButtonStyle()), Label(value='0.0'), Button(descri…"
      ]
     },
     "metadata": {},
     "output_type": "display_data"
    }
   ],
   "source": [
    "from ipywidgets import Button, HBox, VBox\n",
    "\n",
    "box = VBox([mu.interactive_control(), graph_buffer.interactive_widget()])\n",
    "graph_buffer._interactive_widget.width = \"100%\"\n",
    "box"
   ]
  }
 ],
 "metadata": {
  "interpreter": {
   "hash": "134a8618fd165f18242dd20b594af6d3ef25260a68fd850100ce88646d662c98"
  },
  "kernelspec": {
   "display_name": "Python 3.7.10 64-bit ('py37': conda)",
   "name": "python3"
  },
  "language_info": {
   "codemirror_mode": {
    "name": "ipython",
    "version": 3
   },
   "file_extension": ".py",
   "mimetype": "text/x-python",
   "name": "python",
   "nbconvert_exporter": "python",
   "pygments_lexer": "ipython3",
   "version": "3.7.10"
  }
 },
 "nbformat": 4,
 "nbformat_minor": 5
}
