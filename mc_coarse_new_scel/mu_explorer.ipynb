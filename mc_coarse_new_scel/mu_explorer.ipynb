{
 "cells": [
  {
   "cell_type": "code",
   "execution_count": 1,
   "metadata": {},
   "outputs": [
    {
     "name": "stdout",
     "output_type": "stream",
     "text": [
      "Populating the interactive namespace from numpy and matplotlib\n"
     ]
    }
   ],
   "source": [
    "get_ipython().run_line_magic('pylab', 'inline')"
   ]
  },
  {
   "cell_type": "code",
   "execution_count": 2,
   "metadata": {},
   "outputs": [],
   "source": [
    "#from tinc import *\n",
    "import tinc\n",
    "import os\n",
    "import numpy as np\n",
    "import djlib.mc as mc\n"
   ]
  },
  {
   "cell_type": "code",
   "execution_count": 3,
   "metadata": {},
   "outputs": [],
   "source": [
    "#Enlarge the jupyter notebook so that plots are easier to see \n",
    "from IPython.core.display import display, HTML\n",
    "#display(HTML(\"<style>.container { width:80% !important; }</style>\"))"
   ]
  },
  {
   "cell_type": "code",
   "execution_count": 4,
   "metadata": {},
   "outputs": [],
   "source": [
    "\n",
    "\n",
    "mu = tinc.Parameter(\"mu\", \"chemical_potential\")\n",
    "mu.values = np.linspace(-1,1,81)\n",
    "\n",
    "graph_buffer = tinc.DiskBufferImage(\"graph\", \"out.png\", \"graph_output\")"
   ]
  },
  {
   "cell_type": "code",
   "execution_count": 5,
   "metadata": {},
   "outputs": [
    {
     "name": "stdout",
     "output_type": "stream",
     "text": [
      "Validating json with /home/jonnyli/anaconda3/lib/python3.8/site-packages/tinc/tinc_cache_schema.json\n"
     ]
    }
   ],
   "source": [
    "ps = tinc.ParameterSpace(\"ps\")\n",
    "ps.register_parameters([mu])\n",
    "ps.enable_cache()"
   ]
  },
  {
   "cell_type": "code",
   "execution_count": 6,
   "metadata": {},
   "outputs": [],
   "source": [
    "def make_graph(mu):\n",
    "    \n",
    "    t_high = 2000\n",
    "    t_low = 20\n",
    "    user = \"jonny\"\n",
    "    #hard-coding this now, change later\n",
    "    if user == \"jonny\":\n",
    "        plots_dir = '/home/jonnyli/Desktop/CASM/experiments/ZrN_FCC_1.2.0_demo/mc_coarse_new_scel/plots'\n",
    "        t_const_right_dir = '/home/jonnyli/Desktop/CASM/experiments/ZrN_FCC_1.2.0_demo/mc_coarse_new_scel/t_const/mu_3.0_0_0.005_T_2000'\n",
    "        t_const_left_dir =  '/home/jonnyli/Desktop/CASM/experiments/ZrN_FCC_1.2.0_demo/mc_coarse_new_scel/t_const/mu_-3.0_0_0.005_T_2000'\n",
    "        heating_dir = '/home/jonnyli/Desktop/CASM/experiments/ZrN_FCC_1.2.0_demo/mc_coarse_new_scel/heating'\n",
    "        cooling_dir = '/home/jonnyli/Desktop/CASM/experiments/ZrN_FCC_1.2.0_demo/mc_coarse_new_scel/cooling'\n",
    "        lte_dir = '/home/jonnyli/Desktop/CASM/experiments/ZrN_FCC_1.2.0_demo/mc_coarse_new_scel/lte'\n",
    "    if user == \"dober\":\n",
    "        plots_dir = '/media/derick/DeoResearch/experiments/ZrN_FCC_1.2.0_demo/mc_coarse_new_scel/plots'\n",
    "        t_const_right_dir = '/media/derick/DeoResearch/experiments/ZrN_FCC_1.2.0_demo/mc_coarse_new_scel/t_const/mu_3.0_0_0.005_T_2000'\n",
    "        t_const_left_dir =  '/media/derick/DeoResearch/experiments/ZrN_FCC_1.2.0_demo/mc_coarse_new_scel/t_const/mu_-3.0_0_0.005_T_2000'\n",
    "        heating_dir = '/media/derick/DeoResearch/experiments/ZrN_FCC_1.2.0_demo/mc_coarse_new_scel/heating'\n",
    "        cooling_dir = '/media/derick/DeoResearch/experiments/ZrN_FCC_1.2.0_demo/mc_coarse_new_scel/cooling'\n",
    "        lte_dir = '/media/derick/DeoResearch/experiments/ZrN_FCC_1.2.0_demo/mc_coarse_new_scel/lte'\n",
    "\n",
    "\n",
    "    heating_run_name = os.path.join(heating_dir, 'mu_%.4f_%.4f_T_%d_%d' % ((mu), (mu), t_low, t_high))\n",
    "    cooling_run_name = os.path.join(cooling_dir, 'mu_%.4f_%.4f_T_%d_%d' % ((mu), (mu), t_high, t_low) )\n",
    "    fig = False\n",
    "\n",
    "    if os.path.isfile(os.path.join(heating_run_name, 'results.json')) and os.path.isfile(os.path.join(cooling_run_name, 'results.json')):    \n",
    "        t_const_left = mc.constant_t_run(t_const_left_dir)\n",
    "        t_const_right = mc.constant_t_run(t_const_right_dir)\n",
    "        lte_run = mc.lte_run(lte_dir)\n",
    "        heating_run = mc.heating_run(heating_run_name, lte_run)\n",
    "        if mu < 0:\n",
    "            cooling_run = mc.cooling_run(cooling_run_name, t_const_left)\n",
    "        else:\n",
    "            cooling_run = mc.cooling_run(cooling_run_name, t_const_right)\n",
    "\n",
    "        fig = mc.plot_heating_and_cooling(heating_run, cooling_run)\n",
    "        fig.set_size_inches(20, 10)\n",
    "\n",
    "    if fig:\n",
    "        image_path = os.path.join(plots_dir, 'heating_vs_cooling_mu%.4f.png' % (mu) )\n",
    "        fig.savefig(image_path)\n",
    "        fig.show()\n",
    "    \n",
    "    \n",
    "    #Path to pre-made images, using scripts from vasp_scripts\n",
    "    file = open(image_path, 'rb')\n",
    "    return file.read()\n",
    "\n",
    "\n",
    "def value_changed(value):\n",
    "    imagedata = ps.run_process(make_graph)\n",
    "    graph_buffer.data = imagedata\n",
    "\n",
    "mu.register_callback(value_changed)"
   ]
  },
  {
   "cell_type": "markdown",
   "id": "9e0b8e0e",
   "metadata": {},
   "source": [
    "#currently not using this display approach\n",
    "from ipywidgets import GridspecLayout\n",
    "grid = GridspecLayout(3, 2, height='300px')\n",
    "grid[:, 1] = graph_buffer.interactive_widget()\n",
    "grid[0, 0] = A.interactive_widget()\n",
    "grid[1, 0] = B.interactive_widget()\n",
    "grid[2, 0] = kT.interactive_widget()\n",
    "grid\n"
   ]
  },
  {
   "cell_type": "code",
   "execution_count": 7,
   "metadata": {},
   "outputs": [
    {
     "data": {
      "application/vnd.jupyter.widget-view+json": {
       "model_id": "7d8a67c322ac4072ae5ae9f048dcd192",
       "version_major": 2,
       "version_minor": 0
      },
      "text/plain": [
       "VBox(children=(HBox(children=(Button(description='<<', style=ButtonStyle()), Label(value='0.0'), Button(descri…"
      ]
     },
     "metadata": {},
     "output_type": "display_data"
    }
   ],
   "source": [
    "from ipywidgets import Button, HBox, VBox\n",
    "\n",
    "box = VBox([mu.interactive_control(), graph_buffer.interactive_widget()])\n",
    "graph_buffer._interactive_widget.width = \"100%\"\n",
    "box"
   ]
  },
  {
   "cell_type": "markdown",
   "id": "46f5ba1e",
   "metadata": {},
   "source": []
  },
  {
   "cell_type": "code",
   "execution_count": 8,
   "id": "8367a502",
   "metadata": {},
   "outputs": [
    {
     "data": {
      "text/plain": [
       "tinc.parameter.Parameter"
      ]
     },
     "execution_count": 8,
     "metadata": {},
     "output_type": "execute_result"
    }
   ],
   "source": [
    "type(mu)"
   ]
  },
  {
   "cell_type": "code",
   "execution_count": null,
   "id": "b4909364",
   "metadata": {},
   "outputs": [],
   "source": []
  }
 ],
 "metadata": {
  "interpreter": {
   "hash": "e7f8c89180b1b01809ebef4d09a4b295f9e97d7edb55f9d07ba3341339b679cd"
  },
  "kernelspec": {
   "display_name": "Python 3.9.7 64-bit ('casm_1.2.0': conda)",
   "name": "python3"
  },
  "language_info": {
   "codemirror_mode": {
    "name": "ipython",
    "version": 3
   },
   "file_extension": ".py",
   "mimetype": "text/x-python",
   "name": "python",
   "nbconvert_exporter": "python",
   "pygments_lexer": "ipython3",
   "version": "3.8.5"
  }
 },
 "nbformat": 4,
 "nbformat_minor": 5
}
