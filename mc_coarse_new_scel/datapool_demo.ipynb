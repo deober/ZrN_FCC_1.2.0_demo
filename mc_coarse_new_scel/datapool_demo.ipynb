{
 "cells": [
  {
   "cell_type": "markdown",
   "metadata": {},
   "source": [
    "This notebook shows the functions provided by TINC to create parameter spaces and data pools from configuration and output files. There are two methods:\n",
    "\n",
    "  * Using the output data\n",
    "  * Using configuration files\n",
    "  \n",
    "Using the output can be very convenient as you can create a DataPool automatically to explore the data, but there are cases where you might need to extract the parameter space from configuration files instead, in cases where the parameters are not present in the output data."
   ]
  },
  {
   "cell_type": "code",
   "execution_count": 39,
   "metadata": {},
   "outputs": [
    {
     "name": "stdout",
     "output_type": "stream",
     "text": [
      "Populating the interactive namespace from numpy and matplotlib\n"
     ]
    }
   ],
   "source": [
    "from tinc import *\n",
    "import json\n",
    "import numpy as np\n",
    "import matplotlib.pyplot as plt\n",
    "from matplotlib import cm\n",
    "from matplotlib.ticker import LinearLocator\n",
    "%pylab inline"
   ]
  },
  {
   "cell_type": "code",
   "execution_count": 40,
   "metadata": {},
   "outputs": [
    {
     "name": "stdout",
     "output_type": "stream",
     "text": [
      "Found more than one potential parameter in files:['Beta', 'T'] \n",
      "Using:T \n",
      "Found more than one potential parameter in files:['Beta', 'T'] \n",
      "Using:T \n"
     ]
    }
   ],
   "source": [
    "#Load  tinc data pools for the separate heating and cooling grids in T vs chempot space\n",
    "heating_data_dir = '/media/derick/DeoResearch/experiments/ZrN_FCC_1.2.0_demo/mc_coarse_new_scel/heating'    \n",
    "cooling_data_dir = '/media/derick/DeoResearch/experiments/ZrN_FCC_1.2.0_demo/mc_coarse_new_scel/cooling'\n",
    "heating_dp, heating_ps  = create_datapool_from_output(heating_data_dir, \"results.json\", ignore_params=['Beta'])\n",
    "cooling_dp, cooling_ps = create_datapool_from_output(cooling_data_dir, \"results.json\", ignore_params=['Beta'])"
   ]
  },
  {
   "cell_type": "code",
   "execution_count": 35,
   "metadata": {},
   "outputs": [
    {
     "data": {
      "text/plain": [
       "['<atom_frac(N)>',\n",
       " '<atom_frac(Zr)>',\n",
       " '<comp(a)>',\n",
       " '<comp_n(N)>',\n",
       " '<comp_n(Va)>',\n",
       " '<comp_n(Zr)>',\n",
       " '<formation_energy>',\n",
       " '<potential_energy>',\n",
       " '<site_frac(N)>',\n",
       " '<site_frac(Va)>',\n",
       " '<site_frac(Zr)>',\n",
       " 'Beta',\n",
       " 'N_avg_samples',\n",
       " 'N_equil_samples',\n",
       " 'T',\n",
       " 'heat_capacity',\n",
       " 'is_converged',\n",
       " 'is_equilibrated',\n",
       " 'param_chem_pot(a)',\n",
       " 'prec(<atom_frac(N)>)',\n",
       " 'prec(<atom_frac(Zr)>)',\n",
       " 'prec(<comp(a)>)',\n",
       " 'prec(<comp_n(N)>)',\n",
       " 'prec(<comp_n(Va)>)',\n",
       " 'prec(<comp_n(Zr)>)',\n",
       " 'prec(<formation_energy>)',\n",
       " 'prec(<potential_energy>)',\n",
       " 'prec(<site_frac(N)>)',\n",
       " 'prec(<site_frac(Va)>)',\n",
       " 'prec(<site_frac(Zr)>)',\n",
       " 'susc_n(N,N)',\n",
       " 'susc_n(N,Va)',\n",
       " 'susc_n(N,Zr)',\n",
       " 'susc_n(S,N)',\n",
       " 'susc_n(S,Va)',\n",
       " 'susc_n(S,Zr)',\n",
       " 'susc_n(Va,Va)',\n",
       " 'susc_n(Va,Zr)',\n",
       " 'susc_n(Zr,Zr)',\n",
       " 'susc_x(S,a)',\n",
       " 'susc_x(a,a)',\n",
       " 'integ_grand_free_energy']"
      ]
     },
     "execution_count": 35,
     "metadata": {},
     "output_type": "execute_result"
    }
   ],
   "source": [
    "#List fields that can be queried:\n",
    "heating_dp.list_fields()\n"
   ]
  },
  {
   "cell_type": "code",
   "execution_count": 36,
   "metadata": {},
   "outputs": [
    {
     "data": {
      "text/plain": [
       "masked_array(data=[ 3.7538629e-02,  3.7411947e-02,  3.7268307e-02,\n",
       "                    3.7096158e-02,  3.6900580e-02,  3.6666315e-02,\n",
       "                    3.6398679e-02,  3.6083251e-02,  3.5722330e-02,\n",
       "                    3.5291769e-02,  3.4795910e-02,  3.4211397e-02,\n",
       "                    3.3534102e-02,  3.2730497e-02,  3.1792656e-02,\n",
       "                    3.0685818e-02,  2.9381581e-02,  2.7847877e-02,\n",
       "                    2.6039608e-02,  2.3902917e-02,  2.1389842e-02,\n",
       "                    1.8424008e-02,  1.4936008e-02,  1.0837190e-02,\n",
       "                    6.0306857e-03,  4.2946354e-04, -6.0630576e-03,\n",
       "                   -1.3496105e-02, -2.1884905e-02, -3.1212978e-02,\n",
       "                   -4.1387841e-02, -5.2349430e-02, -6.4032316e-02,\n",
       "                   -7.6353125e-02, -8.9274406e-02, -1.0272570e-01,\n",
       "                   -1.1666850e-01, -1.3106889e-01, -1.4590499e-01,\n",
       "                   -1.6113611e-01, -1.7674707e-01, -1.9272780e-01,\n",
       "                   -2.0906168e-01, -2.2571935e-01, -2.4270289e-01,\n",
       "                   -2.5999117e-01, -2.7758640e-01, -2.9545620e-01,\n",
       "                   -3.1361905e-01, -3.3203915e-01, -3.5073045e-01,\n",
       "                   -3.6967608e-01, -3.8887501e-01, -4.0831584e-01,\n",
       "                   -4.2800033e-01, -4.4791278e-01, -4.6806243e-01,\n",
       "                   -4.8843193e-01, -5.0902295e-01, -5.2982271e-01,\n",
       "                   -5.5082864e-01, -5.7203996e-01, -5.9345251e-01,\n",
       "                   -6.1505562e-01, -6.3685119e-01, -6.5882856e-01,\n",
       "                   -6.8098599e-01, -7.0331693e-01, -7.2582018e-01,\n",
       "                   -7.4848181e-01, -7.7130514e-01, -7.9427701e-01,\n",
       "                   -8.1740308e-01, -8.4065986e-01, -8.6405516e-01,\n",
       "                   -8.8757855e-01, -9.1122526e-01, -9.3498522e-01,\n",
       "                   -9.5885944e-01, -9.8283136e-01, -1.0069084e+00],\n",
       "             mask=False,\n",
       "       fill_value=1e+20,\n",
       "            dtype=float32)"
      ]
     },
     "execution_count": 36,
     "metadata": {},
     "output_type": "execute_result"
    }
   ],
   "source": [
    "heating_dp.get_slice(\"integ_grand_free_energy\", \"param_chem_pot(a)\")\n",
    "#dp.get_slice(\"<comp_n(N)>\", \"T\")\n"
   ]
  },
  {
   "cell_type": "code",
   "execution_count": 41,
   "metadata": {},
   "outputs": [
    {
     "name": "stdout",
     "output_type": "stream",
     "text": [
      "[[-1.    -0.975 -0.95  ...  0.95   0.975  1.   ]\n",
      " [-1.    -0.975 -0.95  ...  0.95   0.975  1.   ]\n",
      " [-1.    -0.975 -0.95  ...  0.95   0.975  1.   ]\n",
      " ...\n",
      " [-1.    -0.975 -0.95  ...  0.95   0.975  1.   ]\n",
      " [-1.    -0.975 -0.95  ...  0.95   0.975  1.   ]\n",
      " [-1.    -0.975 -0.95  ...  0.95   0.975  1.   ]]\n",
      "[[2000. 2000. 2000. ... 2000. 2000. 2000.]\n",
      " [1980. 1980. 1980. ... 1980. 1980. 1980.]\n",
      " [1960. 1960. 1960. ... 1960. 1960. 1960.]\n",
      " ...\n",
      " [  60.   60.   60. ...   60.   60.   60.]\n",
      " [  40.   40.   40. ...   40.   40.   40.]\n",
      " [  20.   20.   20. ...   20.   20.   20.]]\n",
      "(100, 81)\n"
     ]
    }
   ],
   "source": [
    "#Create meshgrid of chemical potential and temperature\n",
    "heating_chempot_grid, heating_temperature_grid = np.meshgrid(heating_ps.get_dimension('param_chem_pot(a)').values, heating_ps.get_dimension(\"T\").values)\n",
    "print(heating_chempot_grid)\n",
    "print(heating_temperature_grid)\n",
    "\n",
    "#Initialize integrated free energy grid\n",
    "heating_integrated_free_energy = np.zeros(heating_chempot_grid.shape)\n",
    "print(heating_integrated_free_energy.shape)\n",
    "\n",
    "\n",
    "#Same for cooling\n",
    "cooling_chempot_grid, cooling_temperature_grid = np.meshgrid(cooling_ps.get_dimension(\"param_chem_pot(a)\").values, cooling_ps.get_dimension(\"T\").values)\n",
    "cooling_integrated_free_energy = np.zeros(cooling_chempot_grid.shape)\n"
   ]
  },
  {
   "cell_type": "code",
   "execution_count": 48,
   "metadata": {},
   "outputs": [
    {
     "data": {
      "text/plain": [
       "['T', 'param_chem_pot(a)']"
      ]
     },
     "execution_count": 48,
     "metadata": {},
     "output_type": "execute_result"
    }
   ],
   "source": [
    "[i.id for i in heating_ps.get_dimensions()]"
   ]
  },
  {
   "cell_type": "code",
   "execution_count": 42,
   "metadata": {},
   "outputs": [
    {
     "ename": "KeyError",
     "evalue": "'integ_grand_free_energy'",
     "output_type": "error",
     "traceback": [
      "\u001b[0;31m---------------------------------------------------------------------------\u001b[0m",
      "\u001b[0;31mKeyError\u001b[0m                                  Traceback (most recent call last)",
      "\u001b[0;32m/tmp/ipykernel_208630/2113785504.py\u001b[0m in \u001b[0;36m<module>\u001b[0;34m\u001b[0m\n\u001b[1;32m     19\u001b[0m     \u001b[0mcooling_ps\u001b[0m\u001b[0;34m.\u001b[0m\u001b[0mget_parameter\u001b[0m\u001b[0;34m(\u001b[0m\u001b[0;34m\"param_chem_pot(a)\"\u001b[0m\u001b[0;34m)\u001b[0m\u001b[0;34m.\u001b[0m\u001b[0mvalue\u001b[0m \u001b[0;34m=\u001b[0m \u001b[0mvalue\u001b[0m\u001b[0;34m\u001b[0m\u001b[0;34m\u001b[0m\u001b[0m\n\u001b[1;32m     20\u001b[0m \u001b[0;34m\u001b[0m\u001b[0m\n\u001b[0;32m---> 21\u001b[0;31m     \u001b[0mtmp_cooling_integ_free_energy\u001b[0m \u001b[0;34m=\u001b[0m \u001b[0mcooling_dp\u001b[0m\u001b[0;34m.\u001b[0m\u001b[0mget_slice\u001b[0m\u001b[0;34m(\u001b[0m\u001b[0;34m\"integ_grand_free_energy\"\u001b[0m\u001b[0;34m,\u001b[0m\u001b[0;34m\"T\"\u001b[0m\u001b[0;34m)\u001b[0m\u001b[0;34m\u001b[0m\u001b[0;34m\u001b[0m\u001b[0m\n\u001b[0m\u001b[1;32m     22\u001b[0m \u001b[0;34m\u001b[0m\u001b[0m\n\u001b[1;32m     23\u001b[0m     \u001b[0mchempot_index\u001b[0m \u001b[0;34m=\u001b[0m \u001b[0mcooling_ps\u001b[0m\u001b[0;34m.\u001b[0m\u001b[0mget_dimension\u001b[0m\u001b[0;34m(\u001b[0m\u001b[0;34m\"param_chem_pot(a)\"\u001b[0m\u001b[0;34m)\u001b[0m\u001b[0;34m.\u001b[0m\u001b[0mvalues\u001b[0m\u001b[0;34m.\u001b[0m\u001b[0mindex\u001b[0m\u001b[0;34m(\u001b[0m\u001b[0mvalue\u001b[0m\u001b[0;34m)\u001b[0m\u001b[0;34m\u001b[0m\u001b[0;34m\u001b[0m\u001b[0m\n",
      "\u001b[0;32m~/anaconda3/envs/casm_1.2.0/lib/python3.9/site-packages/tinc/datapool.py\u001b[0m in \u001b[0;36mget_slice\u001b[0;34m(self, field, slice_dimensions)\u001b[0m\n\u001b[1;32m    169\u001b[0m     \u001b[0;32mdef\u001b[0m \u001b[0mget_slice\u001b[0m\u001b[0;34m(\u001b[0m\u001b[0mself\u001b[0m\u001b[0;34m,\u001b[0m \u001b[0mfield\u001b[0m\u001b[0;34m,\u001b[0m \u001b[0mslice_dimensions\u001b[0m\u001b[0;34m)\u001b[0m\u001b[0;34m:\u001b[0m\u001b[0;34m\u001b[0m\u001b[0;34m\u001b[0m\u001b[0m\n\u001b[1;32m    170\u001b[0m         \u001b[0;32mif\u001b[0m \u001b[0;32mnot\u001b[0m \u001b[0mself\u001b[0m\u001b[0;34m.\u001b[0m\u001b[0mtinc_client\u001b[0m\u001b[0;34m:\u001b[0m\u001b[0;34m\u001b[0m\u001b[0;34m\u001b[0m\u001b[0m\n\u001b[0;32m--> 171\u001b[0;31m             \u001b[0mslice_file\u001b[0m \u001b[0;34m=\u001b[0m \u001b[0mself\u001b[0m\u001b[0;34m.\u001b[0m\u001b[0mcreate_data_slice\u001b[0m\u001b[0;34m(\u001b[0m\u001b[0mfield\u001b[0m\u001b[0;34m,\u001b[0m \u001b[0mslice_dimensions\u001b[0m\u001b[0;34m)\u001b[0m\u001b[0;34m\u001b[0m\u001b[0;34m\u001b[0m\u001b[0m\n\u001b[0m\u001b[1;32m    172\u001b[0m         \u001b[0;32melse\u001b[0m\u001b[0;34m:\u001b[0m\u001b[0;34m\u001b[0m\u001b[0;34m\u001b[0m\u001b[0m\n\u001b[1;32m    173\u001b[0m             \u001b[0mslice_file\u001b[0m \u001b[0;34m=\u001b[0m \u001b[0mself\u001b[0m\u001b[0;34m.\u001b[0m\u001b[0mtinc_client\u001b[0m\u001b[0;34m.\u001b[0m\u001b[0m_command_datapool_slice_file\u001b[0m\u001b[0;34m(\u001b[0m\u001b[0mself\u001b[0m\u001b[0;34m.\u001b[0m\u001b[0mid\u001b[0m\u001b[0;34m,\u001b[0m \u001b[0mfield\u001b[0m\u001b[0;34m,\u001b[0m \u001b[0mslice_dimensions\u001b[0m\u001b[0;34m,\u001b[0m \u001b[0mself\u001b[0m\u001b[0;34m.\u001b[0m\u001b[0mserver_timeout\u001b[0m\u001b[0;34m)\u001b[0m\u001b[0;34m\u001b[0m\u001b[0;34m\u001b[0m\u001b[0m\n",
      "\u001b[0;32m~/anaconda3/envs/casm_1.2.0/lib/python3.9/site-packages/tinc/datapool.py\u001b[0m in \u001b[0;36mcreate_data_slice\u001b[0;34m(self, field, slice_dimensions)\u001b[0m\n\u001b[1;32m    115\u001b[0m                 \u001b[0;32mfor\u001b[0m \u001b[0mdata_filename\u001b[0m\u001b[0;34m,\u001b[0m \u001b[0mdim_in_file\u001b[0m  \u001b[0;32min\u001b[0m \u001b[0mself\u001b[0m\u001b[0;34m.\u001b[0m\u001b[0m_data_file_names\u001b[0m\u001b[0;34m.\u001b[0m\u001b[0mitems\u001b[0m\u001b[0;34m(\u001b[0m\u001b[0;34m)\u001b[0m\u001b[0;34m:\u001b[0m\u001b[0;34m\u001b[0m\u001b[0;34m\u001b[0m\u001b[0m\n\u001b[1;32m    116\u001b[0m                     \u001b[0;31m# TODO support more than one file\u001b[0m\u001b[0;34m\u001b[0m\u001b[0;34m\u001b[0m\u001b[0m\n\u001b[0;32m--> 117\u001b[0;31m                     \u001b[0mslice_values\u001b[0m \u001b[0;34m=\u001b[0m \u001b[0mself\u001b[0m\u001b[0;34m.\u001b[0m\u001b[0mget_field_from_file\u001b[0m\u001b[0;34m(\u001b[0m\u001b[0mfield\u001b[0m\u001b[0;34m,\u001b[0m \u001b[0mpath\u001b[0m \u001b[0;34m+\u001b[0m \u001b[0mdata_filename\u001b[0m\u001b[0;34m)\u001b[0m\u001b[0;34m\u001b[0m\u001b[0;34m\u001b[0m\u001b[0m\n\u001b[0m\u001b[1;32m    118\u001b[0m                     \u001b[0;32mbreak\u001b[0m\u001b[0;34m\u001b[0m\u001b[0;34m\u001b[0m\u001b[0m\n\u001b[1;32m    119\u001b[0m \u001b[0;34m\u001b[0m\u001b[0m\n",
      "\u001b[0;32m~/anaconda3/envs/casm_1.2.0/lib/python3.9/site-packages/tinc/datapool.py\u001b[0m in \u001b[0;36mget_field_from_file\u001b[0;34m(self, field, full_path)\u001b[0m\n\u001b[1;32m    240\u001b[0m             \u001b[0mj\u001b[0m \u001b[0;34m=\u001b[0m \u001b[0mjson\u001b[0m\u001b[0;34m.\u001b[0m\u001b[0mload\u001b[0m\u001b[0;34m(\u001b[0m\u001b[0mf\u001b[0m\u001b[0;34m)\u001b[0m\u001b[0;34m\u001b[0m\u001b[0;34m\u001b[0m\u001b[0m\n\u001b[1;32m    241\u001b[0m \u001b[0;34m\u001b[0m\u001b[0m\n\u001b[0;32m--> 242\u001b[0;31m         \u001b[0mfield_data\u001b[0m \u001b[0;34m=\u001b[0m \u001b[0mj\u001b[0m\u001b[0;34m[\u001b[0m\u001b[0mfield\u001b[0m\u001b[0;34m]\u001b[0m\u001b[0;34m\u001b[0m\u001b[0;34m\u001b[0m\u001b[0m\n\u001b[0m\u001b[1;32m    243\u001b[0m         \u001b[0;32mif\u001b[0m \u001b[0mtype\u001b[0m\u001b[0;34m(\u001b[0m\u001b[0mfield_data\u001b[0m\u001b[0;34m)\u001b[0m \u001b[0;34m==\u001b[0m \u001b[0mlist\u001b[0m\u001b[0;34m:\u001b[0m\u001b[0;34m\u001b[0m\u001b[0;34m\u001b[0m\u001b[0m\n\u001b[1;32m    244\u001b[0m             \u001b[0;32mreturn\u001b[0m \u001b[0mfield_data\u001b[0m\u001b[0;34m\u001b[0m\u001b[0;34m\u001b[0m\u001b[0m\n",
      "\u001b[0;31mKeyError\u001b[0m: 'integ_grand_free_energy'"
     ]
    }
   ],
   "source": [
    "for value in heating_ps.get_dimension(\"param_chem_pot(a)\").values:\n",
    "    \n",
    "    #Set the current value of the tinc parameter \"param_chem_pot(a)\" to \"value\" \n",
    "    heating_ps.get_parameter(\"param_chem_pot(a)\").value = value\n",
    "    \n",
    "    #Slice integrated grand canonical free energy vs T for the fixed chemical potential\n",
    "    tmp_heating_integ_free_energy = heating_dp.get_slice(\"integ_grand_free_energy\",\"T\")\n",
    "\n",
    "    #Find the index of the current chemical potential in the vetor of chemical potential values (held by the tinc parameter \"param_chem_pot(a)\")\n",
    "    chempot_index = heating_ps.get_dimension(\"param_chem_pot(a)\").values.index(value)\n",
    "\n",
    "    #fill in the integrated grand canonical free energy grid for fixed chemical potential\n",
    "    heating_integrated_free_energy[:,chempot_index] = tmp_heating_integ_free_energy\n",
    "\n",
    "\n",
    "#Same for the cooling free energy surface. \n",
    "for value in cooling_ps.get_dimension(\"param_chem_pot(a)\").values:\n",
    "    \n",
    "    cooling_ps.get_parameter(\"param_chem_pot(a)\").value = value\n",
    "    \n",
    "    tmp_cooling_integ_free_energy = cooling_dp.get_slice(\"integ_grand_free_energy\",\"T\")\n",
    "\n",
    "    chempot_index = cooling_ps.get_dimension(\"param_chem_pot(a)\").values.index(value)\n",
    "\n",
    "    cooling_integrated_free_energy[:,chempot_index] = tmp_cooling_integ_free_energy\n",
    "\n"
   ]
  },
  {
   "cell_type": "code",
   "execution_count": null,
   "metadata": {},
   "outputs": [],
   "source": [
    "#plot the two free energy surfaces:\n",
    "surf = ax.plot_surface(X, Y, Z, cmap=cm.coolwarm,linewidth=0, antialiased=False)"
   ]
  },
  {
   "cell_type": "markdown",
   "metadata": {},
   "source": [
    "def plot_dim(dim_name, fixed_dim, dp):\n",
    "    ps = dp.get_parameter_space()\n",
    "    xlabel(dim_name)\n",
    "\n",
    "    for value in ps.get_dimension(fixed_dim).values:\n",
    "        ps.get_parameter(fixed_dim).value = value\n",
    "        plot(ps.get_parameter(dim_name).values, dp.get_slice(\"<formation_energy>\", dim_name))\n",
    "        plot(ps.get_parameter(dim_name).values, dp.get_slice(\"<formation_energy>\", dim_name))\n",
    "\n",
    "    legend(ps.get_dimension(fixed_dim).values)\n",
    "\n",
    "    \n",
    "    \n",
    "figure(figsize=(12,4))\n",
    "subplot(1,2, 1)\n",
    "    \n",
    "plot_dim(\"param_chem_pot(a)\", \"T\", dp)\n",
    "    \n",
    "subplot(1,2, 2)\n",
    "    \n",
    "plot_dim(\"T\", \"param_chem_pot(a)\", dp)\n",
    "\n"
   ]
  },
  {
   "cell_type": "code",
   "execution_count": null,
   "metadata": {},
   "outputs": [],
   "source": [
    "heating_dp.list_fields()\n",
    "dp.get_slice(\"<comp_n(N)>\", \"T\")\n",
    "dp.get_slice(\"<comp_n(N)>\",\"param_chem_pot(a)\")[40]\n",
    "#ps.get_dimension(\"T\").value\n",
    "\n"
   ]
  },
  {
   "cell_type": "code",
   "execution_count": null,
   "metadata": {},
   "outputs": [],
   "source": [
    "ps.get_dimension(\"param_chem_pot(a)\").values.index(0.0)"
   ]
  },
  {
   "cell_type": "markdown",
   "metadata": {},
   "source": [
    "## tl;dr Create datapools from output\n",
    "\n",
    "You can create a data pool directly from results using ```create_datapool_from_output()```. This function returns the datapool and parameter space extracted from the data files."
   ]
  },
  {
   "cell_type": "markdown",
   "metadata": {},
   "source": [
    "# Extracting from configuration files\n",
    "\n",
    "To extract a parameter space from configuration files, you must provide a data root directory and the name of the configuration file that can be found in subdirectories. This assumes all configuration file names are the same.\n",
    "\n",
    "You will also need to describe how to extract the information from the configuration files. This is done by specifying the keys where the parameter data is found. For example if the configuration files look like:\n",
    "\n",
    "```json\n",
    "{\n",
    "  \"driver\" : {\n",
    "    \"mode\" : \"incremental\", \n",
    "    \"motif\" : {\n",
    "      \"configname\" : \"restricted_auto\",\n",
    "      \"_configname\" : \"SCEL1_1_1_1_0_0_0/0\",\n",
    "      \"_configdof\" : \"$HOME/laptop_share/NbO_rocksalt_gs/mc_runs/fit_13.02/coarse_grid/set2_cooling_grid2/A_3.9B_-19.1/conditions.298/tto/final_state.json\"\n",
    "    },\n",
    "    \"initial_conditions\" : {\n",
    "      \"param_chem_pot\" : {\n",
    "        \"a\" : 3.90,\n",
    "        \"b\" : -19.80\n",
    "      },\n",
    "      \"temperature\" : 20.0,\n",
    "      \"tolerance\" : 0.001\n",
    "    },\n",
    "    \"final_conditions\" : {\n",
    "      \"param_chem_pot\" : {\n",
    "        \"a\" : 3.90,\n",
    "        \"b\" : -19.80\n",
    "      },\n",
    "      \"temperature\" :2800.0,\n",
    "      \"tolerance\" : 0.001\n",
    "    },\n",
    "    \"incremental_conditions\" : {\n",
    "      \"param_chem_pot\" : {\n",
    "        \"a\" : 0.0,\n",
    "        \"b\" : 0.0\n",
    "      },\n",
    "      \"temperature\" : 10.0,\n",
    "      \"tolerance\" : 0.001\n",
    "    }\n",
    "  }\n",
    "}\n",
    "\n",
    "```\n",
    "\n",
    "You specify the starting value key as: ```driver/initial_conditions/*``` because the starting values are a list within the \"driver\" and \" initial_conditions\" keys. A similar string needs to be constructed for end and increment keys.\n",
    "\n",
    "\n",
    "Current limitations:\n",
    "  * JSON only\n",
    "  * space must be described by its boundaries and the incremement\n",
    "  * Limited format to describe how to extract the information. Currently values must be leaf nodes."
   ]
  },
  {
   "cell_type": "markdown",
   "metadata": {},
   "source": [
    "TODO... Ignore below..."
   ]
  }
 ],
 "metadata": {
  "interpreter": {
   "hash": "e7f8c89180b1b01809ebef4d09a4b295f9e97d7edb55f9d07ba3341339b679cd"
  },
  "kernelspec": {
   "display_name": "Python 3.9.7 64-bit ('casm_1.2.0': conda)",
   "name": "python3"
  },
  "language_info": {
   "codemirror_mode": {
    "name": "ipython",
    "version": 3
   },
   "file_extension": ".py",
   "mimetype": "text/x-python",
   "name": "python",
   "nbconvert_exporter": "python",
   "pygments_lexer": "ipython3",
   "version": "3.9.7"
  }
 },
 "nbformat": 4,
 "nbformat_minor": 4
}
