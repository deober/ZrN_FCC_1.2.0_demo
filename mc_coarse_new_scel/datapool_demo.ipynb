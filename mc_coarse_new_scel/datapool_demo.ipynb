{
 "cells": [
  {
   "cell_type": "markdown",
   "metadata": {},
   "source": [
    "This notebook shows the functions provided by TINC to create parameter spaces and data pools from configuration and output files. There are two methods:\n",
    "\n",
    "  * Using the output data\n",
    "  * Using configuration files\n",
    "  \n",
    "Using the output can be very convenient as you can create a DataPool automatically to explore the data, but there are cases where you might need to extract the parameter space from configuration files instead, in cases where the parameters are not present in the output data."
   ]
  },
  {
   "cell_type": "code",
   "execution_count": 33,
   "metadata": {},
   "outputs": [
    {
     "name": "stdout",
     "output_type": "stream",
     "text": [
      "Populating the interactive namespace from numpy and matplotlib\n"
     ]
    },
    {
     "name": "stderr",
     "output_type": "stream",
     "text": [
      "/home/jonnyli/anaconda3/lib/python3.8/site-packages/IPython/core/magics/pylab.py:159: UserWarning: pylab import has clobbered these variables: ['unique', 'interactive']\n",
      "`%matplotlib` prevents importing * from pylab and numpy\n",
      "  warn(\"pylab import has clobbered these variables: %s\"  % clobbered +\n"
     ]
    }
   ],
   "source": [
    "from tinc import *\n",
    "import json\n",
    "import numpy as np\n",
    "import matplotlib.pyplot as plt\n",
    "from matplotlib import cm\n",
    "from matplotlib.ticker import LinearLocator\n",
    "%pylab inline\n",
    "%matplotlib widget"
   ]
  },
  {
   "cell_type": "code",
   "execution_count": 34,
   "metadata": {},
   "outputs": [
    {
     "name": "stdout",
     "output_type": "stream",
     "text": [
      "using Jonny's paths\n",
      "Found more than one potential parameter in files:['Beta', 'T'] \n",
      "Using:T \n",
      "Found more than one potential parameter in files:['Beta', 'T'] \n",
      "Using:T \n"
     ]
    }
   ],
   "source": [
    "#Load  tinc data pools for the separate heating and cooling grids in T vs chempot space\n",
    "user=\"jonny\"\n",
    "if(user==\"jonny\"):\n",
    "    print(\"using Jonny's paths\")\n",
    "    heating_data_dir = \"/home/jonnyli/Desktop/CASM/experiments/ZrN_FCC_1.2.0_demo/mc_coarse_new_scel/heating\"\n",
    "    cooling_data_dir = \"/home/jonnyli/Desktop/CASM/experiments/ZrN_FCC_1.2.0_demo/mc_coarse_new_scel/cooling\"\n",
    "else:\n",
    "    print(\"using Derick's paths\")\n",
    "    heating_data_dir = \"/media/derick/DeoResearch/experiments/ZrN_FCC_1.2.0_demo/mc_coarse_new_scel/heating\"\n",
    "    cooling_data_dir = \"/media/derick/DeoResearch/experiments/ZrN_FCC_1.2.0_demo/mc_coarse_new_scel/cooling\"\n",
    "heating_dp, heating_ps  = create_datapool_from_output(heating_data_dir, \"results.json\", ignore_params=['Beta'])\n",
    "cooling_dp, cooling_ps = create_datapool_from_output(cooling_data_dir, \"results.json\", ignore_params=['Beta'])"
   ]
  },
  {
   "cell_type": "code",
   "execution_count": 35,
   "metadata": {},
   "outputs": [
    {
     "data": {
      "text/plain": [
       "['<atom_frac(N)>',\n",
       " '<atom_frac(Zr)>',\n",
       " '<comp(a)>',\n",
       " '<comp_n(N)>',\n",
       " '<comp_n(Va)>',\n",
       " '<comp_n(Zr)>',\n",
       " '<formation_energy>',\n",
       " '<potential_energy>',\n",
       " '<site_frac(N)>',\n",
       " '<site_frac(Va)>',\n",
       " '<site_frac(Zr)>',\n",
       " 'Beta',\n",
       " 'N_avg_samples',\n",
       " 'N_equil_samples',\n",
       " 'T',\n",
       " 'heat_capacity',\n",
       " 'is_converged',\n",
       " 'is_equilibrated',\n",
       " 'param_chem_pot(a)',\n",
       " 'prec(<atom_frac(N)>)',\n",
       " 'prec(<atom_frac(Zr)>)',\n",
       " 'prec(<comp(a)>)',\n",
       " 'prec(<comp_n(N)>)',\n",
       " 'prec(<comp_n(Va)>)',\n",
       " 'prec(<comp_n(Zr)>)',\n",
       " 'prec(<formation_energy>)',\n",
       " 'prec(<potential_energy>)',\n",
       " 'prec(<site_frac(N)>)',\n",
       " 'prec(<site_frac(Va)>)',\n",
       " 'prec(<site_frac(Zr)>)',\n",
       " 'susc_n(N,N)',\n",
       " 'susc_n(N,Va)',\n",
       " 'susc_n(N,Zr)',\n",
       " 'susc_n(S,N)',\n",
       " 'susc_n(S,Va)',\n",
       " 'susc_n(S,Zr)',\n",
       " 'susc_n(Va,Va)',\n",
       " 'susc_n(Va,Zr)',\n",
       " 'susc_n(Zr,Zr)',\n",
       " 'susc_x(S,a)',\n",
       " 'susc_x(a,a)',\n",
       " 'integ_grand_free_energy']"
      ]
     },
     "execution_count": 35,
     "metadata": {},
     "output_type": "execute_result"
    }
   ],
   "source": [
    "#List fields that can be queried:\n",
    "#heating_dp.list_fields()\n",
    "cooling_dp.list_fields()\n"
   ]
  },
  {
   "cell_type": "code",
   "execution_count": 36,
   "metadata": {},
   "outputs": [
    {
     "data": {
      "text/plain": [
       "masked_array(data=[ 3.7538629e-02,  3.7411947e-02,  3.7268307e-02,\n",
       "                    3.7096158e-02,  3.6900580e-02,  3.6666315e-02,\n",
       "                    3.6398679e-02,  3.6083251e-02,  3.5722330e-02,\n",
       "                    3.5291769e-02,  3.4795910e-02,  3.4211397e-02,\n",
       "                    3.3534102e-02,  3.2730497e-02,  3.1792656e-02,\n",
       "                    3.0685818e-02,  2.9381581e-02,  2.7847877e-02,\n",
       "                    2.6039608e-02,  2.3902917e-02,  2.1389842e-02,\n",
       "                    1.8424008e-02,  1.4936008e-02,  1.0837190e-02,\n",
       "                    6.0306857e-03,  4.2946354e-04, -6.0630576e-03,\n",
       "                   -1.3496105e-02, -2.1884905e-02, -3.1212978e-02,\n",
       "                   -4.1387841e-02, -5.2349430e-02, -6.4032316e-02,\n",
       "                   -7.6353125e-02, -8.9274406e-02, -1.0272570e-01,\n",
       "                   -1.1666850e-01, -1.3106889e-01, -1.4590499e-01,\n",
       "                   -1.6113611e-01, -1.7674707e-01, -1.9272780e-01,\n",
       "                   -2.0906168e-01, -2.2571935e-01, -2.4270289e-01,\n",
       "                   -2.5999117e-01, -2.7758640e-01, -2.9545620e-01,\n",
       "                   -3.1361905e-01, -3.3203915e-01, -3.5073045e-01,\n",
       "                   -3.6967608e-01, -3.8887501e-01, -4.0831584e-01,\n",
       "                   -4.2800033e-01, -4.4791278e-01, -4.6806243e-01,\n",
       "                   -4.8843193e-01, -5.0902295e-01, -5.2982271e-01,\n",
       "                   -5.5082864e-01, -5.7203996e-01, -5.9345251e-01,\n",
       "                   -6.1505562e-01, -6.3685119e-01, -6.5882856e-01,\n",
       "                   -6.8098599e-01, -7.0331693e-01, -7.2582018e-01,\n",
       "                   -7.4848181e-01, -7.7130514e-01, -7.9427701e-01,\n",
       "                   -8.1740308e-01, -8.4065986e-01, -8.6405516e-01,\n",
       "                   -8.8757855e-01, -9.1122526e-01, -9.3498522e-01,\n",
       "                   -9.5885944e-01, -9.8283136e-01, -1.0069084e+00],\n",
       "             mask=False,\n",
       "       fill_value=1e+20,\n",
       "            dtype=float32)"
      ]
     },
     "execution_count": 36,
     "metadata": {},
     "output_type": "execute_result"
    }
   ],
   "source": [
    "heating_dp.get_slice(\"integ_grand_free_energy\", \"param_chem_pot(a)\")\n",
    "cooling_dp.get_slice(\"integ_grand_free_energy\", \"param_chem_pot(a)\")\n",
    "#dp.get_slice(\"<comp_n(N)>\", \"T\")\n"
   ]
  },
  {
   "cell_type": "code",
   "execution_count": 37,
   "metadata": {},
   "outputs": [
    {
     "name": "stdout",
     "output_type": "stream",
     "text": [
      "[[-1.    -0.975 -0.95  ...  0.95   0.975  1.   ]\n",
      " [-1.    -0.975 -0.95  ...  0.95   0.975  1.   ]\n",
      " [-1.    -0.975 -0.95  ...  0.95   0.975  1.   ]\n",
      " ...\n",
      " [-1.    -0.975 -0.95  ...  0.95   0.975  1.   ]\n",
      " [-1.    -0.975 -0.95  ...  0.95   0.975  1.   ]\n",
      " [-1.    -0.975 -0.95  ...  0.95   0.975  1.   ]]\n",
      "[[2000. 2000. 2000. ... 2000. 2000. 2000.]\n",
      " [1980. 1980. 1980. ... 1980. 1980. 1980.]\n",
      " [1960. 1960. 1960. ... 1960. 1960. 1960.]\n",
      " ...\n",
      " [  60.   60.   60. ...   60.   60.   60.]\n",
      " [  40.   40.   40. ...   40.   40.   40.]\n",
      " [  20.   20.   20. ...   20.   20.   20.]]\n",
      "(100, 81)\n"
     ]
    }
   ],
   "source": [
    "#Create meshgrid of chemical potential and temperature\n",
    "heating_chempot_grid, heating_temperature_grid = np.meshgrid(heating_ps.get_dimension('param_chem_pot(a)').values, heating_ps.get_dimension(\"T\").values)\n",
    "print(heating_chempot_grid)\n",
    "print(heating_temperature_grid)\n",
    "\n",
    "#Initialize integrated free energy grid\n",
    "heating_integrated_free_energy = np.zeros(heating_chempot_grid.shape)\n",
    "print(heating_integrated_free_energy.shape)\n",
    "\n",
    "\n",
    "#Same for cooling\n",
    "cooling_chempot_grid, cooling_temperature_grid = np.meshgrid(cooling_ps.get_dimension(\"param_chem_pot(a)\").values, cooling_ps.get_dimension(\"T\").values)\n",
    "cooling_integrated_free_energy = np.zeros(cooling_chempot_grid.shape)\n"
   ]
  },
  {
   "cell_type": "code",
   "execution_count": 38,
   "metadata": {},
   "outputs": [
    {
     "data": {
      "text/plain": [
       "['T', 'param_chem_pot(a)']"
      ]
     },
     "execution_count": 38,
     "metadata": {},
     "output_type": "execute_result"
    }
   ],
   "source": [
    "[i.id for i in heating_ps.get_dimensions()]"
   ]
  },
  {
   "cell_type": "code",
   "execution_count": 39,
   "metadata": {},
   "outputs": [],
   "source": [
    "for value in heating_ps.get_dimension(\"param_chem_pot(a)\").values:\n",
    "    \n",
    "    #Set the current value of the tinc parameter \"param_chem_pot(a)\" to \"value\" \n",
    "    heating_ps.get_parameter(\"param_chem_pot(a)\").value = value\n",
    "    \n",
    "    #Slice integrated grand canonical free energy vs T for the fixed chemical potential\n",
    "    tmp_heating_integ_free_energy = heating_dp.get_slice(\"integ_grand_free_energy\",\"T\")\n",
    "\n",
    "    #Find the index of the current chemical potential in the vetor of chemical potential values (held by the tinc parameter \"param_chem_pot(a)\")\n",
    "    chempot_index = heating_ps.get_dimension(\"param_chem_pot(a)\").values.index(value)\n",
    "\n",
    "    #fill in the integrated grand canonical free energy grid for fixed chemical potential\n",
    "    heating_integrated_free_energy[:,chempot_index] = tmp_heating_integ_free_energy\n",
    "\n",
    "\n",
    "#Same for the cooling free energy surface. \n",
    "for value in cooling_ps.get_dimension(\"param_chem_pot(a)\").values:\n",
    "    \n",
    "    cooling_ps.get_parameter(\"param_chem_pot(a)\").value = value\n",
    "    \n",
    "    tmp_cooling_integ_free_energy = cooling_dp.get_slice(\"integ_grand_free_energy\",\"T\")\n",
    "\n",
    "    chempot_index = cooling_ps.get_dimension(\"param_chem_pot(a)\").values.index(value)\n",
    "\n",
    "    cooling_integrated_free_energy[:,chempot_index] = tmp_cooling_integ_free_energy\n"
   ]
  },
  {
   "cell_type": "code",
   "execution_count": 40,
   "metadata": {},
   "outputs": [
    {
     "name": "stderr",
     "output_type": "stream",
     "text": [
      "<ipython-input-40-7eb90b866dd6>:3: MatplotlibDeprecationWarning: Calling gca() with keyword arguments was deprecated in Matplotlib 3.4. Starting two minor releases later, gca() will take no keyword arguments. The gca() function should only be used to get the current axes, or if no axes exist, create new axes with default keyword arguments. To create a new axes with non-default arguments, use plt.axes() or plt.subplot().\n",
      "  ax = fig.gca(projection='3d')\n"
     ]
    },
    {
     "data": {
      "text/plain": [
       "Text(0.5, 0, 'Integrated Free Energy (eV)')"
      ]
     },
     "execution_count": 40,
     "metadata": {},
     "output_type": "execute_result"
    },
    {
     "data": {
      "application/vnd.jupyter.widget-view+json": {
       "model_id": "898cc60ee3574a3d92cb62fe2d272eff",
       "version_major": 2,
       "version_minor": 0
      },
      "image/png": "[encoded data removed]",
      "text/plain": [
       "Canvas(toolbar=Toolbar(toolitems=[('Home', 'Reset original view', 'home', 'home'), ('Back', 'Back to previous …"
      ]
     },
     "metadata": {},
     "output_type": "display_data"
    }
   ],
   "source": [
    "#plot the heating free energy surfaces:\n",
    "fig = plt.figure()\n",
    "ax = fig.gca(projection='3d')\n",
    "surf = ax.plot_surface(heating_chempot_grid, heating_temperature_grid, heating_integrated_free_energy, cmap=cm.coolwarm,linewidth=1, antialiased=False)\n",
    "ax.set_title(\"Heating\")\n",
    "ax.set_xlabel(\"$\\mu$ (eV)\")\n",
    "ax.set_ylabel(\"Temp (K)\")\n",
    "ax.set_zlabel(\"Integrated Free Energy (eV)\")\n"
   ]
  },
  {
   "cell_type": "code",
   "execution_count": 41,
   "metadata": {},
   "outputs": [
    {
     "name": "stderr",
     "output_type": "stream",
     "text": [
      "<ipython-input-41-79f297e5491f>:3: MatplotlibDeprecationWarning: Calling gca() with keyword arguments was deprecated in Matplotlib 3.4. Starting two minor releases later, gca() will take no keyword arguments. The gca() function should only be used to get the current axes, or if no axes exist, create new axes with default keyword arguments. To create a new axes with non-default arguments, use plt.axes() or plt.subplot().\n",
      "  ax = fig.gca(projection='3d')\n"
     ]
    },
    {
     "data": {
      "text/plain": [
       "Text(0.5, 0, 'Integrated Free Energy (eV)')"
      ]
     },
     "execution_count": 41,
     "metadata": {},
     "output_type": "execute_result"
    },
    {
     "data": {
      "application/vnd.jupyter.widget-view+json": {
       "model_id": "8aae69002bb545a3816468ee0e2ba51e",
       "version_major": 2,
       "version_minor": 0
      },
      "image/png": "[encoded data removed]",
      "text/plain": [
       "Canvas(toolbar=Toolbar(toolitems=[('Home', 'Reset original view', 'home', 'home'), ('Back', 'Back to previous …"
      ]
     },
     "metadata": {},
     "output_type": "display_data"
    }
   ],
   "source": [
    "#plot the cooling free energy surfaces:\n",
    "fig = plt.figure()\n",
    "ax = fig.gca(projection='3d')\n",
    "surf = ax.plot_surface(cooling_chempot_grid, cooling_temperature_grid, cooling_integrated_free_energy, cmap=cm.coolwarm,linewidth=0, antialiased=False)\n",
    "ax.set_title(\"Cooling\")\n",
    "ax.set_xlabel(\"$\\mu$ (eV)\")\n",
    "ax.set_ylabel(\"Temp (K)\")\n",
    "ax.set_zlabel(\"Integrated Free Energy (eV)\")\n",
    "\n"
   ]
  },
  {
   "cell_type": "markdown",
   "metadata": {},
   "source": [
    "def plot_dim(dim_name, fixed_dim, dp):\n",
    "    ps = dp.get_parameter_space()\n",
    "    xlabel(dim_name)\n",
    "\n",
    "    for value in ps.get_dimension(fixed_dim).values:\n",
    "        ps.get_parameter(fixed_dim).value = value\n",
    "        plot(ps.get_parameter(dim_name).values, dp.get_slice(\"<formation_energy>\", dim_name))\n",
    "        plot(ps.get_parameter(dim_name).values, dp.get_slice(\"<formation_energy>\", dim_name))\n",
    "\n",
    "    legend(ps.get_dimension(fixed_dim).values)\n",
    "\n",
    "    \n",
    "    \n",
    "figure(figsize=(12,4))\n",
    "subplot(1,2, 1)\n",
    "    \n",
    "plot_dim(\"param_chem_pot(a)\", \"T\", dp)\n",
    "    \n",
    "subplot(1,2, 2)\n",
    "    \n",
    "plot_dim(\"T\", \"param_chem_pot(a)\", dp)\n",
    "\n"
   ]
  },
  {
   "cell_type": "code",
   "execution_count": 77,
   "metadata": {},
   "outputs": [],
   "source": [
    "cooling_ps.get_dimension(\"param_chem_pot(a)\").value=0.0\n",
    "heating_ps.get_dimension(\"param_chem_pot(a)\").value=0.0\n",
    "def make_graph(chem_pot):\n",
    "    print(\"T=\",heating_ps.get_dimension(\"T\").value)\n",
    "    print(\"mu=\",heating_ps.get_dimension(\"param_chem_pot(a)\").value)\n",
    "    print(\"T=\",cooling_ps.get_dimension(\"T\").value)\n",
    "    print(\"mu=\",cooling_ps.get_dimension(\"param_chem_pot(a)\").value)\n",
    "    E_heat = list(heating_dp.get_slice(\"integ_grand_free_energy\",\"T\"))\n",
    "    E_cool = list(cooling_dp.get_slice(\"integ_grand_free_energy\",\"T\"))\n",
    "    print(len(E_cool))\n",
    "    fig2 = plt.figure()\n",
    "    plt.scatter(heating_ps.get_dimension(\"T\").values,E_heat,color='orange')\n",
    "    plt.scatter(cooling_ps.get_dimension(\"T\").values,E_cool,color='blue')\n",
    "    #plt.scatter(b,a)\n",
    "    plt.xlabel(\"Temp (K)\")\n",
    "    plt.ylabel(\"Integrated Free Energy (eV)\")\n",
    "    plt.title(\"$\\mu$=%f,%f\" % (cooling_ps.get_dimension(\"param_chem_pot(a)\").value,heating_ps.get_dimension(\"param_chem_pot(a)\").value))\n",
    "    plt.legend(\"heating\",\"cooling\")\n",
    "    return fig2\n"
   ]
  },
  {
   "cell_type": "code",
   "execution_count": 78,
   "metadata": {},
   "outputs": [
    {
     "name": "stdout",
     "output_type": "stream",
     "text": [
      "T= 2000.0\n",
      "mu= 0.0\n",
      "T= 2000.0\n",
      "mu= 0.0\n",
      "100\n"
     ]
    },
    {
     "name": "stderr",
     "output_type": "stream",
     "text": [
      "<ipython-input-77-38eee013d2b0>:18: UserWarning: Legend does not support 'h' instances.\n",
      "A proxy artist may be used instead.\n",
      "See: https://matplotlib.org/users/legend_guide.html#creating-artists-specifically-for-adding-to-the-legend-aka-proxy-artists\n",
      "  plt.legend(\"heating\",\"cooling\")\n",
      "<ipython-input-77-38eee013d2b0>:18: UserWarning: Legend does not support 'e' instances.\n",
      "A proxy artist may be used instead.\n",
      "See: https://matplotlib.org/users/legend_guide.html#creating-artists-specifically-for-adding-to-the-legend-aka-proxy-artists\n",
      "  plt.legend(\"heating\",\"cooling\")\n",
      "<ipython-input-77-38eee013d2b0>:18: UserWarning: Legend does not support 'a' instances.\n",
      "A proxy artist may be used instead.\n",
      "See: https://matplotlib.org/users/legend_guide.html#creating-artists-specifically-for-adding-to-the-legend-aka-proxy-artists\n",
      "  plt.legend(\"heating\",\"cooling\")\n",
      "<ipython-input-77-38eee013d2b0>:18: UserWarning: Legend does not support 't' instances.\n",
      "A proxy artist may be used instead.\n",
      "See: https://matplotlib.org/users/legend_guide.html#creating-artists-specifically-for-adding-to-the-legend-aka-proxy-artists\n",
      "  plt.legend(\"heating\",\"cooling\")\n",
      "<ipython-input-77-38eee013d2b0>:18: UserWarning: Legend does not support 'i' instances.\n",
      "A proxy artist may be used instead.\n",
      "See: https://matplotlib.org/users/legend_guide.html#creating-artists-specifically-for-adding-to-the-legend-aka-proxy-artists\n",
      "  plt.legend(\"heating\",\"cooling\")\n",
      "<ipython-input-77-38eee013d2b0>:18: UserWarning: Legend does not support 'n' instances.\n",
      "A proxy artist may be used instead.\n",
      "See: https://matplotlib.org/users/legend_guide.html#creating-artists-specifically-for-adding-to-the-legend-aka-proxy-artists\n",
      "  plt.legend(\"heating\",\"cooling\")\n",
      "<ipython-input-77-38eee013d2b0>:18: UserWarning: Legend does not support 'g' instances.\n",
      "A proxy artist may be used instead.\n",
      "See: https://matplotlib.org/users/legend_guide.html#creating-artists-specifically-for-adding-to-the-legend-aka-proxy-artists\n",
      "  plt.legend(\"heating\",\"cooling\")\n"
     ]
    },
    {
     "data": {
      "text/plain": [
       "[2000.0,\n",
       " 1980.0,\n",
       " 1960.0,\n",
       " 1940.0,\n",
       " 1920.0,\n",
       " 1900.0,\n",
       " 1880.0,\n",
       " 1860.0,\n",
       " 1840.0,\n",
       " 1820.0,\n",
       " 1800.0,\n",
       " 1780.0,\n",
       " 1760.0,\n",
       " 1740.0,\n",
       " 1720.0,\n",
       " 1700.0,\n",
       " 1680.0,\n",
       " 1660.0,\n",
       " 1640.0,\n",
       " 1620.0,\n",
       " 1600.0,\n",
       " 1580.0,\n",
       " 1560.0,\n",
       " 1540.0,\n",
       " 1520.0,\n",
       " 1500.0,\n",
       " 1480.0,\n",
       " 1460.0,\n",
       " 1440.0,\n",
       " 1420.0,\n",
       " 1400.0,\n",
       " 1380.0,\n",
       " 1360.0,\n",
       " 1340.0,\n",
       " 1320.0,\n",
       " 1300.0,\n",
       " 1280.0,\n",
       " 1260.0,\n",
       " 1240.0,\n",
       " 1220.0,\n",
       " 1200.0,\n",
       " 1180.0,\n",
       " 1160.0,\n",
       " 1140.0,\n",
       " 1120.0,\n",
       " 1100.0,\n",
       " 1080.0,\n",
       " 1060.0,\n",
       " 1040.0,\n",
       " 1020.0,\n",
       " 1000.0,\n",
       " 980.0,\n",
       " 960.0,\n",
       " 940.0,\n",
       " 920.0,\n",
       " 900.0,\n",
       " 880.0,\n",
       " 860.0,\n",
       " 840.0,\n",
       " 820.0,\n",
       " 800.0,\n",
       " 780.0,\n",
       " 760.0,\n",
       " 740.0,\n",
       " 720.0,\n",
       " 700.0,\n",
       " 680.0,\n",
       " 660.0,\n",
       " 640.0,\n",
       " 620.0,\n",
       " 600.0,\n",
       " 580.0,\n",
       " 560.0,\n",
       " 540.0,\n",
       " 520.0,\n",
       " 500.0,\n",
       " 480.0,\n",
       " 460.0,\n",
       " 440.0,\n",
       " 420.0,\n",
       " 400.0,\n",
       " 380.0,\n",
       " 360.0,\n",
       " 340.0,\n",
       " 320.0,\n",
       " 300.0,\n",
       " 280.0,\n",
       " 260.0,\n",
       " 240.0,\n",
       " 220.0,\n",
       " 200.0,\n",
       " 180.0,\n",
       " 160.0,\n",
       " 140.0,\n",
       " 120.0,\n",
       " 100.0,\n",
       " 80.0,\n",
       " 60.0,\n",
       " 40.0,\n",
       " 20.0]"
      ]
     },
     "execution_count": 78,
     "metadata": {},
     "output_type": "execute_result"
    },
    {
     "data": {
      "application/vnd.jupyter.widget-view+json": {
       "model_id": "91bdb54115a8457189ff98da60f40c66",
       "version_major": 2,
       "version_minor": 0
      },
      "image/png": "[encoded data removed]",
      "text/plain": [
       "Canvas(toolbar=Toolbar(toolitems=[('Home', 'Reset original view', 'home', 'home'), ('Back', 'Back to previous …"
      ]
     },
     "metadata": {},
     "output_type": "display_data"
    }
   ],
   "source": [
    "##Debugging cell\n",
    "make_graph(cooling_ps.get_parameter(\"param_chem_pot(a)\"))\n",
    "#a = cooling_dp.get_slice(\"integ_grand_free_energy\",\"T\")\n",
    "#b = cooling_dp.get_slice(\"T\",\"param_chem_pot(a)\")\n",
    "[i.id for i in cooling_ps.get_parameters()]\n",
    "#print(b)\n",
    "#heating_dp.list_fields()\n",
    "#[i.id for i in heating_ps.get_parameters()]\n",
    "#print(heating_integrated_free_energy.shape, cooling_integrated_free_energy.shape)\n",
    "#print(cooling_integrated_free_energy-heating_integrated_free_energy)\n",
    "#print(min(cooling_ps.get_dimension(\"T\").values))\n",
    "\n",
    "#heating_dp.get_slice(\"<comp_n(N)>\",\"param_chem_pot(a)\")[20]\n",
    "heating_ps.get_parameter(\"T\").values\n",
    "\n"
   ]
  },
  {
   "cell_type": "code",
   "execution_count": null,
   "metadata": {},
   "outputs": [],
   "source": []
  },
  {
   "cell_type": "code",
   "execution_count": 44,
   "metadata": {},
   "outputs": [
    {
     "data": {
      "text/plain": [
       "40"
      ]
     },
     "execution_count": 44,
     "metadata": {},
     "output_type": "execute_result"
    }
   ],
   "source": [
    "cooling_ps.get_dimension(\"param_chem_pot(a)\").values.index(0.0)"
   ]
  },
  {
   "cell_type": "markdown",
   "metadata": {},
   "source": [
    "## tl;dr Create datapools from output\n",
    "\n",
    "You can create a data pool directly from results using ```create_datapool_from_output()```. This function returns the datapool and parameter space extracted from the data files."
   ]
  },
  {
   "cell_type": "markdown",
   "metadata": {},
   "source": [
    "# Extracting from configuration files\n",
    "\n",
    "To extract a parameter space from configuration files, you must provide a data root directory and the name of the configuration file that can be found in subdirectories. This assumes all configuration file names are the same.\n",
    "\n",
    "You will also need to describe how to extract the information from the configuration files. This is done by specifying the keys where the parameter data is found. For example if the configuration files look like:\n",
    "\n",
    "```json\n",
    "{\n",
    "  \"driver\" : {\n",
    "    \"mode\" : \"incremental\", \n",
    "    \"motif\" : {\n",
    "      \"configname\" : \"restricted_auto\",\n",
    "      \"_configname\" : \"SCEL1_1_1_1_0_0_0/0\",\n",
    "      \"_configdof\" : \"$HOME/laptop_share/NbO_rocksalt_gs/mc_runs/fit_13.02/coarse_grid/set2_cooling_grid2/A_3.9B_-19.1/conditions.298/tto/final_state.json\"\n",
    "    },\n",
    "    \"initial_conditions\" : {\n",
    "      \"param_chem_pot\" : {\n",
    "        \"a\" : 3.90,\n",
    "        \"b\" : -19.80\n",
    "      },\n",
    "      \"temperature\" : 20.0,\n",
    "      \"tolerance\" : 0.001\n",
    "    },\n",
    "    \"final_conditions\" : {\n",
    "      \"param_chem_pot\" : {\n",
    "        \"a\" : 3.90,\n",
    "        \"b\" : -19.80\n",
    "      },\n",
    "      \"temperature\" :2800.0,\n",
    "      \"tolerance\" : 0.001\n",
    "    },\n",
    "    \"incremental_conditions\" : {\n",
    "      \"param_chem_pot\" : {\n",
    "        \"a\" : 0.0,\n",
    "        \"b\" : 0.0\n",
    "      },\n",
    "      \"temperature\" : 10.0,\n",
    "      \"tolerance\" : 0.001\n",
    "    }\n",
    "  }\n",
    "}\n",
    "\n",
    "```\n",
    "\n",
    "You specify the starting value key as: ```driver/initial_conditions/*``` because the starting values are a list within the \"driver\" and \" initial_conditions\" keys. A similar string needs to be constructed for end and increment keys.\n",
    "\n",
    "\n",
    "Current limitations:\n",
    "  * JSON only\n",
    "  * space must be described by its boundaries and the incremement\n",
    "  * Limited format to describe how to extract the information. Currently values must be leaf nodes."
   ]
  },
  {
   "cell_type": "markdown",
   "metadata": {},
   "source": [
    "TODO... Ignore below..."
   ]
  }
 ],
 "metadata": {
  "interpreter": {
   "hash": "16fd0d4c6d94bd1543c17c1b72775823d3881b7eb2dc5c8a0b1e69dcba640578"
  },
  "kernelspec": {
   "display_name": "Python 3.8.5 64-bit ('base': conda)",
   "name": "python3"
  },
  "language_info": {
   "codemirror_mode": {
    "name": "ipython",
    "version": 3
   },
   "file_extension": ".py",
   "mimetype": "text/x-python",
   "name": "python",
   "nbconvert_exporter": "python",
   "pygments_lexer": "ipython3",
   "version": "3.8.5"
  }
 },
 "nbformat": 4,
 "nbformat_minor": 4
}
