{
 "cells": [
  {
   "cell_type": "code",
   "execution_count": 51,
   "source": [
    "from tinc import *\n",
    "tclient = TincClient()"
   ],
   "outputs": [
    {
     "output_type": "stream",
     "name": "stdout",
     "text": [
      "Connected to localhost:34450. Server version 1 revision 0\n",
      "Set working path to /home/derick/research/casm_viewer/bin/\n"
     ]
    }
   ],
   "metadata": {}
  },
  {
   "cell_type": "code",
   "execution_count": 52,
   "source": [
    "import pkg_resources  # part of setuptools\n",
    "pkg_resources.require(\"tinc\")[0].version"
   ],
   "outputs": [
    {
     "output_type": "execute_result",
     "data": {
      "text/plain": [
       "'0.9.36'"
      ]
     },
     "metadata": {},
     "execution_count": 52
    }
   ],
   "metadata": {}
  },
  {
   "cell_type": "markdown",
   "source": [
    "# Parameters and Parameter Spaces"
   ],
   "metadata": {}
  },
  {
   "cell_type": "code",
   "execution_count": 53,
   "source": [
    "[p.id for p in tclient.parameters]"
   ],
   "outputs": [
    {
     "output_type": "execute_result",
     "data": {
      "text/plain": [
       "['ShellSiteTypes', 'PercolationTypes', 'markerColor', 'markerScale']"
      ]
     },
     "metadata": {},
     "execution_count": 53
    },
    {
     "output_type": "stream",
     "name": "stdout",
     "text": [
      "Validating json with /home/derick/anaconda3/envs/py37/lib/python3.7/site-packages/tinc/tinc_cache_schema.json\n",
      "Writing entry failed"
     ]
    }
   ],
   "metadata": {}
  },
  {
   "cell_type": "code",
   "execution_count": 54,
   "source": [
    "tclient.get_parameter(\"param_chem_pot(a)\").value"
   ],
   "outputs": [
    {
     "output_type": "stream",
     "name": "stdout",
     "text": [
      "\n",
      "parsing: /media/derick/DeoResearch/experiments/rocksalt3_ZrN_casm/mc_coarse_new_scel/heating/cached_output/graph.png\n"
     ]
    },
    {
     "output_type": "execute_result",
     "data": {
      "text/plain": [
       "0.0"
      ]
     },
     "metadata": {},
     "execution_count": 54
    }
   ],
   "metadata": {}
  },
  {
   "cell_type": "code",
   "execution_count": 55,
   "source": [
    "tclient.get_parameter(\"param_chem_pot(a)\").values"
   ],
   "outputs": [
    {
     "output_type": "execute_result",
     "data": {
      "text/plain": [
       "array([-1.        , -0.97500002, -0.94999999, -0.92500001, -0.89999998,\n",
       "       -0.875     , -0.85000002, -0.82499999, -0.80000001, -0.77499998,\n",
       "       -0.75      , -0.72500002, -0.69999999, -0.67500001, -0.64999998,\n",
       "       -0.625     , -0.60000002, -0.57499999, -0.55000001, -0.52499998,\n",
       "       -0.5       , -0.47499999, -0.44999999, -0.42500001, -0.40000001,\n",
       "       -0.375     , -0.34999999, -0.32499999, -0.30000001, -0.27500001,\n",
       "       -0.25      , -0.22499999, -0.2       , -0.175     , -0.15000001,\n",
       "       -0.125     , -0.1       , -0.075     , -0.05      , -0.025     ,\n",
       "        0.        ,  0.025     ,  0.05      ,  0.075     ,  0.1       ,\n",
       "        0.125     ,  0.15000001,  0.175     ,  0.2       ,  0.22499999,\n",
       "        0.25      ,  0.27500001,  0.30000001,  0.32499999,  0.34999999,\n",
       "        0.375     ,  0.40000001,  0.42500001,  0.44999999,  0.47499999,\n",
       "        0.5       ,  0.52499998,  0.55000001,  0.57499999,  0.60000002,\n",
       "        0.625     ,  0.64999998,  0.67500001,  0.69999999,  0.72500002,\n",
       "        0.75      ,  0.77499998,  0.80000001,  0.82499999,  0.85000002,\n",
       "        0.875     ,  0.89999998,  0.92500001,  0.94999999,  0.97500002,\n",
       "        1.        ])"
      ]
     },
     "metadata": {},
     "execution_count": 55
    }
   ],
   "metadata": {}
  },
  {
   "cell_type": "code",
   "execution_count": 56,
   "source": [
    "tclient.get_parameter(\"param_chem_pot(a)\").ids"
   ],
   "outputs": [
    {
     "output_type": "execute_result",
     "data": {
      "text/plain": [
       "['mu_-1.0000_-1.0000_T_20_2000/', 'mu_-0.9750_-0.9750_T_20_2000/', 'mu_-0.9500_-0.9500_T_20_2000/', 'mu_-0.9250_-0.9250_T_20_2000/', 'mu_-0.9000_-0.9000_T_20_2000/', 'mu_-0.8750_-0.8750_T_20_2000/', 'mu_-0.8500_-0.8500_T_20_2000/', 'mu_-0.8250_-0.8250_T_20_2000/', 'mu_-0.8000_-0.8000_T_20_2000/', 'mu_-0.7750_-0.7750_T_20_2000/', 'mu_-0.7500_-0.7500_T_20_2000/', 'mu_-0.7250_-0.7250_T_20_2000/', 'mu_-0.7000_-0.7000_T_20_2000/', 'mu_-0.6750_-0.6750_T_20_2000/', 'mu_-0.6500_-0.6500_T_20_2000/', 'mu_-0.6250_-0.6250_T_20_2000/', 'mu_-0.6000_-0.6000_T_20_2000/', 'mu_-0.5750_-0.5750_T_20_2000/', 'mu_-0.5500_-0.5500_T_20_2000/', 'mu_-0.5250_-0.5250_T_20_2000/', 'mu_-0.5000_-0.5000_T_20_2000/', 'mu_-0.4750_-0.4750_T_20_2000/', 'mu_-0.4500_-0.4500_T_20_2000/', 'mu_-0.4250_-0.4250_T_20_2000/', 'mu_-0.4000_-0.4000_T_20_2000/', 'mu_-0.3750_-0.3750_T_20_2000/', 'mu_-0.3500_-0.3500_T_20_2000/', 'mu_-0.3250_-0.3250_T_20_2000/', 'mu_-0.3000_-0.3000_T_20_2000/', 'mu_-0.2750_-0.2750_T_20_2000/', 'mu_-0.2500_-0.2500_T_20_2000/', 'mu_-0.2250_-0.2250_T_20_2000/', 'mu_-0.2000_-0.2000_T_20_2000/', 'mu_-0.1750_-0.1750_T_20_2000/', 'mu_-0.1500_-0.1500_T_20_2000/', 'mu_-0.1250_-0.1250_T_20_2000/', 'mu_-0.1000_-0.1000_T_20_2000/', 'mu_-0.0750_-0.0750_T_20_2000/', 'mu_-0.0500_-0.0500_T_20_2000/', 'mu_-0.0250_-0.0250_T_20_2000/', 'mu_0.0000_0.0000_T_20_2000/', 'mu_0.0250_0.0250_T_20_2000/', 'mu_0.0500_0.0500_T_20_2000/', 'mu_0.0750_0.0750_T_20_2000/', 'mu_0.1000_0.1000_T_20_2000/', 'mu_0.1250_0.1250_T_20_2000/', 'mu_0.1500_0.1500_T_20_2000/', 'mu_0.1750_0.1750_T_20_2000/', 'mu_0.2000_0.2000_T_20_2000/', 'mu_0.2250_0.2250_T_20_2000/', 'mu_0.2500_0.2500_T_20_2000/', 'mu_0.2750_0.2750_T_20_2000/', 'mu_0.3000_0.3000_T_20_2000/', 'mu_0.3250_0.3250_T_20_2000/', 'mu_0.3500_0.3500_T_20_2000/', 'mu_0.3750_0.3750_T_20_2000/', 'mu_0.4000_0.4000_T_20_2000/', 'mu_0.4250_0.4250_T_20_2000/', 'mu_0.4500_0.4500_T_20_2000/', 'mu_0.4750_0.4750_T_20_2000/', 'mu_0.5000_0.5000_T_20_2000/', 'mu_0.5250_0.5250_T_20_2000/', 'mu_0.5500_0.5500_T_20_2000/', 'mu_0.5750_0.5750_T_20_2000/', 'mu_0.6000_0.6000_T_20_2000/', 'mu_0.6250_0.6250_T_20_2000/', 'mu_0.6500_0.6500_T_20_2000/', 'mu_0.6750_0.6750_T_20_2000/', 'mu_0.7000_0.7000_T_20_2000/', 'mu_0.7250_0.7250_T_20_2000/', 'mu_0.7500_0.7500_T_20_2000/', 'mu_0.7750_0.7750_T_20_2000/', 'mu_0.8000_0.8000_T_20_2000/', 'mu_0.8250_0.8250_T_20_2000/', 'mu_0.8500_0.8500_T_20_2000/', 'mu_0.8750_0.8750_T_20_2000/', 'mu_0.9000_0.9000_T_20_2000/', 'mu_0.9250_0.9250_T_20_2000/', 'mu_0.9500_0.9500_T_20_2000/', 'mu_0.9750_0.9750_T_20_2000/', 'mu_1.0000_1.0000_T_20_2000/']"
      ]
     },
     "metadata": {},
     "execution_count": 56
    }
   ],
   "metadata": {}
  },
  {
   "cell_type": "code",
   "execution_count": 57,
   "source": [
    "[ps.id for ps in tclient.parameter_spaces]"
   ],
   "outputs": [
    {
     "output_type": "execute_result",
     "data": {
      "text/plain": [
       "['casmParameters']"
      ]
     },
     "metadata": {},
     "execution_count": 57
    }
   ],
   "metadata": {}
  },
  {
   "cell_type": "code",
   "execution_count": 58,
   "source": [
    "tclient.parameter_spaces[0].get_current_relative_path()"
   ],
   "outputs": [
    {
     "output_type": "execute_result",
     "data": {
      "text/plain": [
       "'mu_0.0000_0.0000_T_20_2000/conditions.14/'"
      ]
     },
     "metadata": {},
     "execution_count": 58
    }
   ],
   "metadata": {}
  },
  {
   "cell_type": "code",
   "execution_count": 59,
   "source": [
    "tclient.parameter_spaces[0].get_root_path()"
   ],
   "outputs": [
    {
     "output_type": "execute_result",
     "data": {
      "text/plain": [
       "'/media/derick/DeoResearch/experiments/rocksalt3_ZrN_casm/mc_coarse_new_scel/heating/'"
      ]
     },
     "metadata": {},
     "execution_count": 59
    }
   ],
   "metadata": {}
  },
  {
   "cell_type": "markdown",
   "source": [
    "# Datapools"
   ],
   "metadata": {}
  },
  {
   "cell_type": "markdown",
   "source": [
    "Through TINC you can access the data from the results file through the data pool interface."
   ],
   "metadata": {}
  },
  {
   "cell_type": "code",
   "execution_count": 60,
   "source": [
    "[dp.id  for dp in tclient.datapools]"
   ],
   "outputs": [
    {
     "output_type": "execute_result",
     "data": {
      "text/plain": [
       "['resultsData', 'trajectories', 'neighborhood']"
      ]
     },
     "metadata": {},
     "execution_count": 60
    }
   ],
   "metadata": {}
  },
  {
   "cell_type": "code",
   "execution_count": 61,
   "source": [
    "results_pool = tclient.get_datapool(\"resultsData\")"
   ],
   "outputs": [],
   "metadata": {}
  },
  {
   "cell_type": "code",
   "execution_count": 62,
   "source": [
    "results_pool.get_current_files()"
   ],
   "outputs": [
    {
     "output_type": "execute_result",
     "data": {
      "text/plain": [
       "['/media/derick/DeoResearch/experiments/rocksalt3_ZrN_casm/mc_coarse_new_scel/heating/mu_0.0000_0.0000_T_20_2000/results.json']"
      ]
     },
     "metadata": {},
     "execution_count": 62
    }
   ],
   "metadata": {}
  },
  {
   "cell_type": "code",
   "execution_count": 63,
   "source": [
    "import json\n",
    "with open(results_pool.get_current_files()[0]) as f:\n",
    "    j = json.load(f)"
   ],
   "outputs": [],
   "metadata": {}
  },
  {
   "cell_type": "code",
   "execution_count": 64,
   "source": [
    "j.keys()"
   ],
   "outputs": [
    {
     "output_type": "execute_result",
     "data": {
      "text/plain": [
       "dict_keys(['<atom_frac(N)>', '<atom_frac(Zr)>', '<comp(a)>', '<comp_n(N)>', '<comp_n(Va)>', '<comp_n(Zr)>', '<formation_energy>', '<potential_energy>', '<site_frac(N)>', '<site_frac(Va)>', '<site_frac(Zr)>', 'Beta', 'N_avg_samples', 'N_equil_samples', 'T', 'heat_capacity', 'is_converged', 'is_equilibrated', 'param_chem_pot(a)', 'prec(<atom_frac(N)>)', 'prec(<atom_frac(Zr)>)', 'prec(<comp(a)>)', 'prec(<comp_n(N)>)', 'prec(<comp_n(Va)>)', 'prec(<comp_n(Zr)>)', 'prec(<formation_energy>)', 'prec(<potential_energy>)', 'prec(<site_frac(N)>)', 'prec(<site_frac(Va)>)', 'prec(<site_frac(Zr)>)', 'susc_n(N,N)', 'susc_n(N,Va)', 'susc_n(N,Zr)', 'susc_n(S,N)', 'susc_n(S,Va)', 'susc_n(S,Zr)', 'susc_n(Va,Va)', 'susc_n(Va,Zr)', 'susc_n(Zr,Zr)', 'susc_x(S,a)', 'susc_x(a,a)'])"
      ]
     },
     "metadata": {},
     "execution_count": 64
    }
   ],
   "metadata": {}
  },
  {
   "cell_type": "markdown",
   "source": [
    "A data pool allows slicing the dataset in an arbitrary dimension"
   ],
   "metadata": {}
  },
  {
   "cell_type": "code",
   "execution_count": 65,
   "source": [
    "slice = results_pool.get_slice(\"<site_frac(N)>\", \"T\")\n",
    "slice_2 = results_pool.get_slice(\"<site_frac(Zr)>\", \"T\")\n",
    "slice_3 = results_pool.get_slice(\"param_chem_pot(a)\", \"T\")"
   ],
   "outputs": [],
   "metadata": {}
  },
  {
   "cell_type": "code",
   "execution_count": 66,
   "source": [
    "%pylab inline"
   ],
   "outputs": [
    {
     "output_type": "stream",
     "name": "stdout",
     "text": [
      "Populating the interactive namespace from numpy and matplotlib\n"
     ]
    },
    {
     "output_type": "stream",
     "name": "stderr",
     "text": [
      "/home/derick/anaconda3/envs/py37/lib/python3.7/site-packages/IPython/core/magics/pylab.py:160: UserWarning: pylab import has clobbered these variables: ['interactive', 'f', 'beta']\n",
      "`%matplotlib` prevents importing * from pylab and numpy\n",
      "  \"\\n`%matplotlib` prevents importing * from pylab and numpy\"\n"
     ]
    }
   ],
   "metadata": {}
  },
  {
   "cell_type": "code",
   "execution_count": 67,
   "source": [
    "plot(slice)\n",
    "plot(slice_2)\n",
    "plot(slice_3)"
   ],
   "outputs": [
    {
     "output_type": "execute_result",
     "data": {
      "text/plain": [
       "[<matplotlib.lines.Line2D at 0x7f7e7f19d2d0>]"
      ]
     },
     "metadata": {},
     "execution_count": 67
    },
    {
     "output_type": "display_data",
     "data": {
      "image/png": "[encoded data removed]",
      "text/plain": [
       "<Figure size 432x288 with 1 Axes>"
      ]
     },
     "metadata": {
      "needs_background": "light"
     }
    }
   ],
   "metadata": {}
  },
  {
   "cell_type": "code",
   "execution_count": 68,
   "source": [
    "beta = results_pool.get_slice(\"Beta\", \"T\")"
   ],
   "outputs": [],
   "metadata": {}
  },
  {
   "cell_type": "code",
   "execution_count": 69,
   "source": [
    "beta"
   ],
   "outputs": [
    {
     "output_type": "execute_result",
     "data": {
      "text/plain": [
       "masked_array(data=[580.22529754, 290.11264877, 193.40843251, 145.05632438,\n",
       "                   116.04505951,  96.70421626,  82.88932822,  72.52816219,\n",
       "                    64.4694775 ,  58.02252975,  52.74775432,  48.35210813,\n",
       "                    44.6327152 ,  41.44466411,  38.6816865 ,  36.2640811 ,\n",
       "                    34.13089986,  32.23473875,  30.53817355,  29.01126488,\n",
       "                    27.62977607,  26.37387716,  25.22718685,  24.17605406,\n",
       "                    23.2090119 ,  22.3163576 ,  21.48982583,  20.72233205,\n",
       "                    20.00776888,  19.34084325,  18.71694508,  18.13204055,\n",
       "                    17.58258477,  17.06544993,  16.57786564,  16.11736938,\n",
       "                    15.6817648 ,  15.26908678,  14.87757173,  14.50563244,\n",
       "                    14.15183653,  13.81488804,  13.49361157,  13.18693858,\n",
       "                    12.8938955 ,  12.61359342,  12.3452191 ,  12.08802703,\n",
       "                    11.8413326 ,  11.60450595,  11.37696662,  11.1581788 ,\n",
       "                    10.94764712,  10.74491292,  10.54955086,  10.36116603,\n",
       "                    10.17939118,  10.00388444,   9.83432708,   9.67042163,\n",
       "                     9.51189012,   9.35847254,   9.20992536,   9.06602027,\n",
       "                     8.92654304,   8.79129239,   8.66007907,   8.53272496,\n",
       "                     8.40906228,   8.28893282,   8.17218729,   8.05868469,\n",
       "                     7.94829175,   7.8408824 ,   7.7363373 ,   7.63454339,\n",
       "                     7.53539347,   7.43878587,   7.34462402,   7.25281622,\n",
       "                     7.16327528,   7.07591826,   6.99066624,   6.90744402,\n",
       "                     6.82617997,   6.74680579,   6.66925629,   6.59346929,\n",
       "                     6.51938537,   6.44694775,   6.37610217,   6.30679671,\n",
       "                     6.23898169,   6.17260955,   6.10763471,   6.04401352,\n",
       "                     5.9817041 ,   5.9206663 ,   5.86086159,   5.80225298],\n",
       "             mask=False,\n",
       "       fill_value=1e+20)"
      ]
     },
     "metadata": {},
     "execution_count": 69
    }
   ],
   "metadata": {}
  },
  {
   "cell_type": "markdown",
   "source": [
    "# Parameter Callbacks"
   ],
   "metadata": {}
  },
  {
   "cell_type": "markdown",
   "source": [
    "Create a parameter through the TINC client. All parameters assigned to the \"casm\" group will be displayed in the CASM viewer interface."
   ],
   "metadata": {}
  },
  {
   "cell_type": "code",
   "execution_count": 70,
   "source": [
    "p = tclient.create_parameter(Parameter,\\\n",
    "                                    \"myparam\",\"casm\",-0.375,0.375,\\\n",
    "                                    [-0.375,-0.125,0.125,0.375],0.125)"
   ],
   "outputs": [],
   "metadata": {}
  },
  {
   "cell_type": "code",
   "execution_count": 71,
   "source": [
    "p.value"
   ],
   "outputs": [
    {
     "output_type": "execute_result",
     "data": {
      "text/plain": [
       "0.125"
      ]
     },
     "metadata": {},
     "execution_count": 71
    }
   ],
   "metadata": {}
  },
  {
   "cell_type": "code",
   "execution_count": 72,
   "source": [
    "p.value = 0.125"
   ],
   "outputs": [],
   "metadata": {}
  },
  {
   "cell_type": "code",
   "execution_count": 73,
   "source": [
    "def func(value):\n",
    "    print(value)    "
   ],
   "outputs": [],
   "metadata": {}
  },
  {
   "cell_type": "markdown",
   "source": [
    "Register the func as a callback to the 'p' parameter. This function will be called whenever the parameter value changes, whether from the C++ GUI or from this notebook."
   ],
   "metadata": {}
  },
  {
   "cell_type": "code",
   "execution_count": 74,
   "source": [
    "p.register_callback(func)"
   ],
   "outputs": [],
   "metadata": {}
  },
  {
   "cell_type": "code",
   "execution_count": 75,
   "source": [
    "p.value = 0.1"
   ],
   "outputs": [
    {
     "output_type": "stream",
     "name": "stdout",
     "text": [
      "0.125\n"
     ]
    }
   ],
   "metadata": {}
  },
  {
   "cell_type": "code",
   "execution_count": 76,
   "source": [
    "q = tclient.create_parameter(Parameter,\\\n",
    "                                 \"output\",\"casm\",-10,10)"
   ],
   "outputs": [],
   "metadata": {}
  },
  {
   "cell_type": "code",
   "execution_count": 77,
   "source": [
    "def func(value):\n",
    "    print(value)\n",
    "    q.value = value * 3 +1 "
   ],
   "outputs": [],
   "metadata": {}
  },
  {
   "cell_type": "markdown",
   "source": [
    "Even though it has the same name, we must register the function."
   ],
   "metadata": {}
  },
  {
   "cell_type": "code",
   "execution_count": 78,
   "source": [
    "p.register_callback(func)"
   ],
   "outputs": [],
   "metadata": {}
  },
  {
   "cell_type": "markdown",
   "source": [
    "```Trigger``` parameters are displayed as buttons in the GUI."
   ],
   "metadata": {}
  },
  {
   "cell_type": "code",
   "execution_count": 79,
   "source": [
    "t = tclient.create_parameter(Trigger,\\\n",
    "                                    \"compute\",\"casm\")"
   ],
   "outputs": [],
   "metadata": {}
  },
  {
   "cell_type": "code",
   "execution_count": 80,
   "source": [
    "def compute(value):\n",
    "    print(\"hello\")"
   ],
   "outputs": [],
   "metadata": {}
  },
  {
   "cell_type": "code",
   "execution_count": 81,
   "source": [
    "t.register_callback(compute)"
   ],
   "outputs": [],
   "metadata": {}
  },
  {
   "cell_type": "markdown",
   "source": [
    "```ParameterString``` parameters are used to display text."
   ],
   "metadata": {}
  },
  {
   "cell_type": "code",
   "execution_count": 82,
   "source": [
    "s = tclient.create_parameter(ParameterString,\\\n",
    "                                    \"text\",\"casm\")"
   ],
   "outputs": [],
   "metadata": {}
  },
  {
   "cell_type": "code",
   "execution_count": 83,
   "source": [
    "s.value"
   ],
   "outputs": [
    {
     "output_type": "execute_result",
     "data": {
      "text/plain": [
       "'hello CASM'"
      ]
     },
     "metadata": {},
     "execution_count": 83
    }
   ],
   "metadata": {}
  },
  {
   "cell_type": "code",
   "execution_count": 84,
   "source": [
    "s.value = \"hello CASM\""
   ],
   "outputs": [],
   "metadata": {}
  },
  {
   "cell_type": "markdown",
   "source": [
    "# Generating a graph"
   ],
   "metadata": {}
  },
  {
   "cell_type": "code",
   "execution_count": 85,
   "source": [
    "[db.id for db in tclient.disk_buffers]"
   ],
   "outputs": [
    {
     "output_type": "execute_result",
     "data": {
      "text/plain": [
       "['graph',\n",
       " 'graph1',\n",
       " 'graph2',\n",
       " 'graph3',\n",
       " 'graph4',\n",
       " 'graph5',\n",
       " 'history_buffer',\n",
       " 'trajectory_buffer',\n",
       " 'atomRender_buffer']"
      ]
     },
     "metadata": {},
     "execution_count": 85
    }
   ],
   "metadata": {}
  },
  {
   "cell_type": "code",
   "execution_count": 86,
   "source": [
    "g = tclient.get_disk_buffer(\"graph3\")"
   ],
   "outputs": [],
   "metadata": {}
  },
  {
   "cell_type": "code",
   "execution_count": 87,
   "source": [
    "def graph(value):\n",
    "    x=np.linspace(0,1,10);\n",
    "    y=np.random.random(10);\n",
    "    plt.plot(x,y);\n",
    "    plt.title(os.getcwd().split(\"/\")[-1].replace(\"_\",\":\"));\n",
    "    name = g.get_filename_for_writing()\n",
    "    plt.savefig(name);\n",
    "    g.done_writing_file(name)"
   ],
   "outputs": [],
   "metadata": {}
  },
  {
   "cell_type": "markdown",
   "source": [
    "Register the ```graph()``` function to the \"compute\" trigger. Whenever the button is clicked, a new graph will be generated"
   ],
   "metadata": {}
  },
  {
   "cell_type": "code",
   "execution_count": 88,
   "source": [
    "t.register_callback(graph)"
   ],
   "outputs": [],
   "metadata": {}
  },
  {
   "cell_type": "markdown",
   "source": [
    "# Atom buffers"
   ],
   "metadata": {}
  },
  {
   "cell_type": "code",
   "execution_count": 89,
   "source": [
    "buf = tclient.get_disk_buffer(\"atomRender_buffer\")"
   ],
   "outputs": [],
   "metadata": {
    "scrolled": true
   }
  },
  {
   "cell_type": "markdown",
   "source": [
    "The data by default is a flat list of x,y,z and hue"
   ],
   "metadata": {}
  },
  {
   "cell_type": "code",
   "execution_count": 90,
   "source": [
    "buf.data"
   ],
   "outputs": [
    {
     "output_type": "execute_result",
     "data": {
      "text/plain": [
       "array([  4.581523  ,   4.581523  ,  -6.8722844 , ..., -22.907614  ,\n",
       "         9.163046  ,   0.33333334], dtype=float32)"
      ]
     },
     "metadata": {},
     "execution_count": 90
    }
   ],
   "metadata": {}
  },
  {
   "cell_type": "code",
   "execution_count": 91,
   "source": [
    "buf.data = [0,0,0,0.5, 10, 10, 10, 0.9]"
   ],
   "outputs": [
    {
     "output_type": "stream",
     "name": "stdout",
     "text": [
      "sent disk buffer filename: positions_1.nc\n"
     ]
    }
   ],
   "metadata": {}
  },
  {
   "cell_type": "markdown",
   "source": [
    "# Caching"
   ],
   "metadata": {}
  },
  {
   "cell_type": "code",
   "execution_count": 92,
   "source": [
    "def process(T):\n",
    "    print(T)"
   ],
   "outputs": [],
   "metadata": {}
  },
  {
   "cell_type": "code",
   "execution_count": 93,
   "source": [
    "ps = tclient.get_parameter_space(\"casmParameters\")"
   ],
   "outputs": [],
   "metadata": {}
  },
  {
   "cell_type": "code",
   "execution_count": 94,
   "source": [
    "ps.run_process(process)"
   ],
   "outputs": [
    {
     "output_type": "stream",
     "name": "stdout",
     "text": [
      "300.0\n"
     ]
    }
   ],
   "metadata": {}
  },
  {
   "cell_type": "code",
   "execution_count": 95,
   "source": [
    "ps.get_parameter(\"T\").value = 300"
   ],
   "outputs": [],
   "metadata": {}
  },
  {
   "cell_type": "code",
   "execution_count": 96,
   "source": [
    "ps.run_process(process)"
   ],
   "outputs": [
    {
     "output_type": "stream",
     "name": "stdout",
     "text": [
      "parsing: /media/derick/DeoResearch/experiments/rocksalt3_ZrN_casm/mc_coarse_new_scel/heating/cached_output/graph.pngparsing: /media/derick/DeoResearch/experiments/rocksalt3_ZrN_casm/mc_coarse_new_scel/heating/cached_output/graph.png\n",
      "\n"
     ]
    }
   ],
   "metadata": {}
  },
  {
   "cell_type": "code",
   "execution_count": 97,
   "source": [
    "ps.enable_cache()"
   ],
   "outputs": [
    {
     "output_type": "stream",
     "name": "stdout",
     "text": [
      "Connected to client. enable_cache() ignoring directory\n",
      "Validating json with /home/derick/anaconda3/envs/py37/lib/python3.7/site-packages/tinc/tinc_cache_schema.json\n"
     ]
    }
   ],
   "metadata": {}
  },
  {
   "cell_type": "code",
   "execution_count": 98,
   "source": [
    "ps.run_process(process)"
   ],
   "outputs": [],
   "metadata": {}
  },
  {
   "cell_type": "code",
   "execution_count": 99,
   "source": [
    "ps.run_process(process)"
   ],
   "outputs": [],
   "metadata": {}
  },
  {
   "cell_type": "code",
   "execution_count": 100,
   "source": [
    "ps.sweep(process)"
   ],
   "outputs": [
    {
     "output_type": "stream",
     "name": "stdout",
     "text": [
      "parsing: /media/derick/DeoResearch/experiments/rocksalt3_ZrN_casm/mc_coarse_new_scel/heating/cached_output/graph.png\n",
      "parsing: /media/derick/DeoResearch/experiments/rocksalt3_ZrN_casm/mc_coarse_new_scel/heating/cached_output/graph.png\n",
      "parsing: /media/derick/DeoResearch/experiments/rocksalt3_ZrN_casm/mc_coarse_new_scel/heating/cached_output/graph.pngparsing: /media/derick/DeoResearch/experiments/rocksalt3_ZrN_casm/mc_coarse_new_scel/heating/cached_output/graph.png\n",
      "\n"
     ]
    }
   ],
   "metadata": {}
  },
  {
   "cell_type": "code",
   "execution_count": null,
   "source": [],
   "outputs": [],
   "metadata": {}
  }
 ],
 "metadata": {
  "kernelspec": {
   "name": "python3",
   "display_name": "Python 3.7.10 64-bit ('py37': conda)"
  },
  "language_info": {
   "codemirror_mode": {
    "name": "ipython",
    "version": 3
   },
   "file_extension": ".py",
   "mimetype": "text/x-python",
   "name": "python",
   "nbconvert_exporter": "python",
   "pygments_lexer": "ipython3",
   "version": "3.7.10"
  },
  "interpreter": {
   "hash": "134a8618fd165f18242dd20b594af6d3ef25260a68fd850100ce88646d662c98"
  }
 },
 "nbformat": 4,
 "nbformat_minor": 4
}